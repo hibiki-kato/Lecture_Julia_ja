{
 "cells": [
  {
   "cell_type": "markdown",
   "metadata": {
    "vscode": {
     "languageId": "julia"
    }
   },
   "source": [
    "# Lesson3 制御フロー\n",
    "# 目標\n",
    "* ### 条件分岐if文を理解する\n",
    "* ### 繰り返し処理for文，while文を理解する\n",
    "* ### break文，continue文を理解する"
   ]
  },
  {
   "cell_type": "markdown",
   "metadata": {},
   "source": [
    "## 3.1 if文"
   ]
  },
  {
   "cell_type": "markdown",
   "metadata": {},
   "source": [
    "if文は条件分岐(~の場合は~をする)を行うための文法です。\n",
    "```julia\n",
    "if 条件\n",
    "    処理\n",
    "end\n",
    "```\n",
    "という形で書きます。\n",
    "\n",
    "条件としては，以下のようなものが使えます。\n",
    "* `==` : 等しい\n",
    "* `!=` : 等しくない\n",
    "* `>` : より大きい\n",
    "* `<` : より小さい\n",
    "* `>=` : 以上\n",
    "* `<=` : 以下\n",
    "* `&&` : かつ\n",
    "* `||` : または\n",
    "* `!` : でない\n",
    "* `in` : あるリストに含まれている\n",
    "* `is` : 同じオブジェクトである\n",
    "\n",
    "厳密には，条件の式によって，真偽値（`true`か`false`）が返され，trueの場合は処理が実行されます。"
   ]
  },
  {
   "cell_type": "code",
   "execution_count": null,
   "metadata": {},
   "outputs": [],
   "source": [
    "a = 312\n",
    "#変数aが偶数か奇数か判定する\n",
    "if (a % 2 == 0)\n",
    "    println(\"Even\")\n",
    "else\n",
    "    println(\"Odd\")\n",
    "end"
   ]
  },
  {
   "cell_type": "markdown",
   "metadata": {},
   "source": [
    "## 3.2 for文"
   ]
  },
  {
   "cell_type": "markdown",
   "metadata": {},
   "source": [
    "for文は繰り返し処理を行うための文法です。\n",
    "```julia\n",
    "for 変数 in リスト\n",
    "    処理\n",
    "end\n",
    "```\n",
    "という形で書きます。\n",
    "\n",
    "ここで、リストやタプルは複数の要素を持つデータ構造です。\n",
    "1ループごとに変数にリストの要素が代入されて処理が行われます。"
   ]
  },
  {
   "cell_type": "code",
   "execution_count": null,
   "metadata": {},
   "outputs": [],
   "source": [
    "for i in 1:10\n",
    "    println(i)\n",
    "end"
   ]
  },
  {
   "cell_type": "markdown",
   "metadata": {},
   "source": [
    "## 演習問題 3"
   ]
  },
  {
   "cell_type": "markdown",
   "metadata": {},
   "source": [
    "### １から100までの合計を求めよ"
   ]
  },
  {
   "cell_type": "code",
   "execution_count": null,
   "metadata": {},
   "outputs": [],
   "source": []
  },
  {
   "cell_type": "markdown",
   "metadata": {},
   "source": [
    "## 演習問題 4"
   ]
  },
  {
   "cell_type": "markdown",
   "metadata": {},
   "source": [
    "### 以下のロジスティック写像により与えられる数列を計算して求めよ\n",
    "\n",
    "### $x_{n+1} = r x_n (1 - x_n)$\n",
    "### ただし、$x_0 = 0.5$とし、$r = 3.8$とする\n",
    "\n",
    "ヒント：数列を格納するための配列を用意し，for文を使って数列を計算していく"
   ]
  },
  {
   "cell_type": "code",
   "execution_count": null,
   "metadata": {},
   "outputs": [],
   "source": []
  },
  {
   "cell_type": "markdown",
   "metadata": {},
   "source": [
    "## 3.3 break文とcontinue文"
   ]
  },
  {
   "cell_type": "markdown",
   "metadata": {},
   "source": [
    "break文は繰り返し処理を途中で終了するための文法です。if文とセットで使うことが多いです。\n",
    "```julia\n",
    "for 変数 in リスト\n",
    "    if 条件\n",
    "        break\n",
    "    end\n",
    "end\n",
    "```\n",
    "のように使います。\n",
    "ループをしている途中で条件が満たされた場合、その時点でループを終了します。"
   ]
  },
  {
   "cell_type": "code",
   "execution_count": null,
   "metadata": {},
   "outputs": [],
   "source": [
    "for i in 1:10\n",
    "    if i^2 > 50\n",
    "        break\n",
    "    end\n",
    "    println(i)\n",
    "end"
   ]
  },
  {
   "cell_type": "markdown",
   "metadata": {},
   "source": [
    "continue文は繰り返し処理の途中で次のループに移るための文法です。これもif文とセットで使うことが多いです。\n",
    "```julia\n",
    "for 変数 in リスト\n",
    "    if 条件\n",
    "        continue\n",
    "    end\n",
    "    処理\n",
    "end\n",
    "```\n",
    "のように使います。\n",
    "ループをしている処理の途中で条件が満たされた場合、その時点で次のループに移ります。"
   ]
  },
  {
   "cell_type": "code",
   "execution_count": null,
   "metadata": {},
   "outputs": [],
   "source": [
    "for i in 1:10\n",
    "\n",
    "    if i % 2 == 0\n",
    "        continue\n",
    "    end\n",
    "    println(i)\n",
    "end"
   ]
  },
  {
   "cell_type": "markdown",
   "metadata": {},
   "source": [
    "## 3.4 while文"
   ]
  },
  {
   "cell_type": "markdown",
   "metadata": {},
   "source": [
    "while文は条件が満たされている間繰り返し処理を行うための文法です。\n",
    "```julia\n",
    "while (条件)\n",
    "    処理\n",
    "end\n",
    "```\n",
    "という形で書きます。\n",
    "\n",
    "特に、\n",
    "```julia\n",
    "while true\n",
    "```\n",
    "と書くと無限ループになります。その時は、break文を使ってループを抜けるようにします。"
   ]
  },
  {
   "cell_type": "code",
   "execution_count": null,
   "metadata": {},
   "outputs": [],
   "source": [
    "i = 0\n",
    "while i < 10\n",
    "    i += 1\n",
    "    println(i)\n",
    "end\n"
   ]
  },
  {
   "cell_type": "markdown",
   "metadata": {},
   "source": [
    "## 演習問題 3'"
   ]
  },
  {
   "cell_type": "markdown",
   "metadata": {},
   "source": [
    "### 1から100までの合計をwhile文を使って求めよ"
   ]
  },
  {
   "cell_type": "code",
   "execution_count": null,
   "metadata": {},
   "outputs": [],
   "source": []
  },
  {
   "cell_type": "markdown",
   "metadata": {},
   "source": [
    "## 3.4 try-except文"
   ]
  },
  {
   "cell_type": "markdown",
   "metadata": {},
   "source": [
    "try-except文はエラーが発生した場合の処理を行うための文法です。\n",
    "```julia\n",
    "try\n",
    "    処理\n",
    "except\n",
    "    エラーが発生した場合の処理\n",
    "end\n",
    "```\n",
    "という形で書きます。"
   ]
  }
 ],
 "metadata": {
  "kernelspec": {
   "display_name": "Julia 1.10.3",
   "language": "julia",
   "name": "julia-1.10"
  },
  "language_info": {
   "file_extension": ".jl",
   "mimetype": "application/julia",
   "name": "julia",
   "version": "1.10.3"
  }
 },
 "nbformat": 4,
 "nbformat_minor": 2
}
