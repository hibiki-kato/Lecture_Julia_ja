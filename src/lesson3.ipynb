{
 "cells": [
  {
   "cell_type": "markdown",
   "metadata": {
    "vscode": {
     "languageId": "julia"
    }
   },
   "source": [
    "# Lesson3 制御フロー\n",
    "# 目標\n",
    "* ### 条件分岐if文を理解する\n",
    "* ### 繰り返し処理for文，while文を理解する\n",
    "* ### break文，continue文を理解する"
   ]
  },
  {
   "cell_type": "markdown",
   "metadata": {},
   "source": [
    "## 3.1 if文"
   ]
  },
  {
   "cell_type": "markdown",
   "metadata": {},
   "source": [
    "if文は条件分岐(~の場合は~をする)を行うための文法です。\n",
    "```julia\n",
    "if 条件\n",
    "    処理\n",
    "end\n",
    "```\n",
    "という形で書きます。\n",
    "\n",
    "条件としては，以下のようなものが使えます。\n",
    "* `==` : 等しい\n",
    "* `!=` : 等しくない\n",
    "* `>` : より大きい\n",
    "* `<` : より小さい\n",
    "* `>=` : 以上\n",
    "* `<=` : 以下\n",
    "* `&&` : かつ\n",
    "* `||` : または\n",
    "* `!` : でない\n",
    "* `in` : あるリストに含まれている\n",
    "* `is` : 同じオブジェクトである\n",
    "\n",
    "厳密には，条件の式によって，真偽値（`true`か`false`）が返され，trueの場合は処理が実行されます。"
   ]
  },
  {
   "cell_type": "code",
   "execution_count": 16,
   "metadata": {},
   "outputs": [
    {
     "data": {
      "text/plain": [
       "false"
      ]
     },
     "metadata": {},
     "output_type": "display_data"
    }
   ],
   "source": [
    "0 == 9"
   ]
  },
  {
   "cell_type": "code",
   "execution_count": 17,
   "metadata": {},
   "outputs": [
    {
     "data": {
      "text/plain": [
       "100"
      ]
     },
     "metadata": {},
     "output_type": "display_data"
    }
   ],
   "source": [
    "N = 10 #　行数\n",
    "M = 100 # 列数\n",
    "num_row = 10\n",
    "num_col = 100"
   ]
  },
  {
   "cell_type": "code",
   "execution_count": 18,
   "metadata": {},
   "outputs": [
    {
     "data": {
      "text/plain": [
       "10×100 Matrix{Float64}:\n",
       " 0.0  0.0  0.0  0.0  0.0  0.0  0.0  0.0  …  0.0  0.0  0.0  0.0  0.0  0.0  0.0\n",
       " 0.0  0.0  0.0  0.0  0.0  0.0  0.0  0.0     0.0  0.0  0.0  0.0  0.0  0.0  0.0\n",
       " 0.0  0.0  0.0  0.0  0.0  0.0  0.0  0.0     0.0  0.0  0.0  0.0  0.0  0.0  0.0\n",
       " 0.0  0.0  0.0  0.0  0.0  0.0  0.0  0.0     0.0  0.0  0.0  0.0  0.0  0.0  0.0\n",
       " 0.0  0.0  0.0  0.0  0.0  0.0  0.0  0.0     0.0  0.0  0.0  0.0  0.0  0.0  0.0\n",
       " 0.0  0.0  0.0  0.0  0.0  0.0  0.0  0.0  …  0.0  0.0  0.0  0.0  0.0  0.0  0.0\n",
       " 0.0  0.0  0.0  0.0  0.0  0.0  0.0  0.0     0.0  0.0  0.0  0.0  0.0  0.0  0.0\n",
       " 0.0  0.0  0.0  0.0  0.0  0.0  0.0  0.0     0.0  0.0  0.0  0.0  0.0  0.0  0.0\n",
       " 0.0  0.0  0.0  0.0  0.0  0.0  0.0  0.0     0.0  0.0  0.0  0.0  0.0  0.0  0.0\n",
       " 0.0  0.0  0.0  0.0  0.0  0.0  0.0  0.0     0.0  0.0  0.0  0.0  0.0  0.0  0.0"
      ]
     },
     "metadata": {},
     "output_type": "display_data"
    }
   ],
   "source": [
    "zeros(N, M)"
   ]
  },
  {
   "cell_type": "code",
   "execution_count": 11,
   "metadata": {},
   "outputs": [
    {
     "data": {
      "text/plain": [
       "true"
      ]
     },
     "metadata": {},
     "output_type": "display_data"
    }
   ],
   "source": [
    "a = 1\n",
    "3 < a || a < 9"
   ]
  },
  {
   "cell_type": "code",
   "execution_count": 14,
   "metadata": {},
   "outputs": [
    {
     "name": "stdout",
     "output_type": "stream",
     "text": [
      "Even\n"
     ]
    }
   ],
   "source": [
    "a = 320\n",
    "#変数aが偶数か奇数か判定する\n",
    "if (a % 2 == 0)\n",
    "\tprintln(\"Even\")\n",
    "else\n",
    "\tprintln(\"Odd\")\n",
    "end\n"
   ]
  },
  {
   "cell_type": "code",
   "execution_count": 15,
   "metadata": {},
   "outputs": [
    {
     "name": "stdout",
     "output_type": "stream",
     "text": [
      "4で割ると1余る\n"
     ]
    }
   ],
   "source": [
    "b = 321\n",
    "if (b % 4 == 0)\n",
    "\tprintln(\"4の倍数\")\n",
    "elseif (b % 4 == 1)\n",
    "\tprintln(\"4で割ると1余る\")\n",
    "elseif (b % 4 == 2)\n",
    "\tprintln(\"4で割ると2余る\")\n",
    "else\n",
    "\tprintln(\"3で割ると2余る\")\n",
    "end\n"
   ]
  },
  {
   "cell_type": "markdown",
   "metadata": {},
   "source": [
    "## 3.2 for文"
   ]
  },
  {
   "cell_type": "markdown",
   "metadata": {},
   "source": [
    "for文は繰り返し処理を行うための文法です。\n",
    "```julia\n",
    "for 変数 in リスト\n",
    "    処理\n",
    "end\n",
    "```\n",
    "という形で書きます。\n",
    "\n",
    "ここで、リストやタプルは複数の要素を持つデータ構造です。\n",
    "1ループごとに変数にリストの要素が代入されて処理が行われます。"
   ]
  },
  {
   "cell_type": "code",
   "execution_count": 1,
   "metadata": {},
   "outputs": [
    {
     "name": "stdout",
     "output_type": "stream",
     "text": [
      "1\n",
      "2\n",
      "3\n",
      "4\n",
      "5\n",
      "6\n",
      "7\n",
      "8\n",
      "9\n",
      "10\n"
     ]
    }
   ],
   "source": [
    "for i in 1:10  #1:10は1から10までの範囲を表す\n",
    "\tprintln(i)\n",
    "end\n"
   ]
  },
  {
   "cell_type": "markdown",
   "metadata": {},
   "source": [
    "## 演習問題 3"
   ]
  },
  {
   "cell_type": "markdown",
   "metadata": {},
   "source": [
    "### １から100までの合計を求めよ"
   ]
  },
  {
   "cell_type": "code",
   "execution_count": 2,
   "metadata": {},
   "outputs": [
    {
     "name": "stdout",
     "output_type": "stream",
     "text": [
      "5050\n"
     ]
    }
   ],
   "source": [
    "ans = 0\n",
    "for i in 1:100\n",
    "\tans += i\n",
    "end\n",
    "println(ans)\n"
   ]
  },
  {
   "cell_type": "markdown",
   "metadata": {},
   "source": [
    "## 演習問題 4"
   ]
  },
  {
   "cell_type": "markdown",
   "metadata": {},
   "source": [
    "### 以下のロジスティック写像により与えられる長さ100数列を計算して求めよ\n",
    "\n",
    "### $x_{n+1} = r x_n (1 - x_n)$\n",
    "### ただし、$x_0 = 0.5$とし、$r = 3.8$とする\n",
    "\n",
    "ヒント：数列を格納するための配列を用意し，for文を使って数列を計算していく"
   ]
  },
  {
   "cell_type": "code",
   "execution_count": 4,
   "metadata": {},
   "outputs": [
    {
     "name": "stdout",
     "output_type": "stream",
     "text": [
      "[0.5, 0.95, 0.18050000000000016, 0.5620950500000005, 0.9353479781088904, 0.22979412423470422, 0.6725573818672562, 0.8368510098598481, 0.5188193091943221, 0.9486541676855043, 0.1850958637100242, 0.5731744628003645, 0.9296528923767365, 0.2485138898747569, 0.7096679983734816, 0.7829494557406192, 0.6457705008851319, 0.8692536520724515, 0.43187661363839625, 0.932364976076385, 0.23963000435737464, 0.6923883684024251, 0.8093495196731204, 0.5863509237764368, 0.9216653682592327, 0.2743536054010614, 0.7565180774971003, 0.6999542084853282, 0.7980695951342224, 0.6123871625347789, 0.9020026776500485, 0.3358966192163266, 0.8476663055784008, 0.4906869318687708, 0.9496704136955357, 0.18162677237816585, 0.5648262541478919, 0.9340307157379811, 0.23414588362470812, 0.6814220374639884, 0.8249269684251775, 0.5488053677220899, 0.940948537109744, 0.21114467295895145, 0.6329378801520338, 0.8828445760785973, 0.3930341161553565, 0.90652153883467, 0.32201290616126915, 0.8296182588220027, 0.5371368531143748, 0.9447592457348931, 0.19831901066665003, 0.6041566065644344, 0.9087753249741302, 0.31503038803071826, 0.8199877220621468, 0.5609098593720175, 0.9359019583188679, 0.22796003438834858, 0.6687781770180438, 0.8417529224573704, 0.5061787719690168, 0.9498549265524285, 0.18099607121473468, 0.5632986749943484, 0.9347744554270475, 0.23169045705083424, 0.6764379588171572, 0.8317046574160535, 0.5318936769442946, 0.9461346148096973, 0.1936628407806915, 0.5933986705494873, 0.9168514156904357, 0.28969260950014236, 0.7819290457043333, 0.6479608501153269, 0.8668088299659691, 0.43871487258418773, 0.935727705998985, 0.22853719165447586, 0.6699701860036127, 0.8402185163056098, 0.510155172418676, 0.9496081153979583, 0.18183966175952557, 0.5653411968486862, 0.9337760063786485, 0.23498582990272446, 0.6831164606610788, 0.8225797749728464, 0.5545806973581775, 0.9386796004084011, 0.21872879110499685, 0.6493687267776252, 0.8652181371511583, 0.4431397067241835, 0.9377142467846348, 0.2219437050146874]\n"
     ]
    }
   ],
   "source": [
    "ans = zeros(100)\n",
    "ans[1] = 0.5\n",
    "for i in 1:99\n",
    "\tans[i+1] = 3.8 * ans[i] * (1 - ans[i])\n",
    "end\n",
    "println(ans)\n"
   ]
  },
  {
   "cell_type": "markdown",
   "metadata": {},
   "source": [
    "## 3.3 break文とcontinue文"
   ]
  },
  {
   "cell_type": "markdown",
   "metadata": {},
   "source": [
    "break文は繰り返し処理を途中で終了するための文法です。if文とセットで使うことが多いです。\n",
    "```julia\n",
    "for 変数 in リスト\n",
    "    if 条件\n",
    "        break\n",
    "    end\n",
    "end\n",
    "```\n",
    "のように使います。\n",
    "ループをしている途中で条件が満たされた場合、その時点でループを終了します。"
   ]
  },
  {
   "cell_type": "code",
   "execution_count": 11,
   "metadata": {},
   "outputs": [
    {
     "name": "stdout",
     "output_type": "stream",
     "text": [
      "1\n",
      "2\n",
      "3\n",
      "4\n",
      "5\n",
      "6\n",
      "7\n"
     ]
    }
   ],
   "source": [
    "for i in 1:10\n",
    "\tif i^2 > 50\n",
    "\t\tbreak\n",
    "\tend\n",
    "\tprintln(i)\n",
    "end\n"
   ]
  },
  {
   "cell_type": "markdown",
   "metadata": {},
   "source": [
    "continue文は繰り返し処理の途中で次のループに移るための文法です。これもif文とセットで使うことが多いです。\n",
    "```julia\n",
    "for 変数 in リスト\n",
    "    if 条件\n",
    "        continue\n",
    "    end\n",
    "    処理\n",
    "end\n",
    "```\n",
    "のように使います。\n",
    "ループをしている処理の途中で条件が満たされた場合、その時点で次のループに移ります。"
   ]
  },
  {
   "cell_type": "code",
   "execution_count": 14,
   "metadata": {},
   "outputs": [
    {
     "name": "stdout",
     "output_type": "stream",
     "text": [
      "1\n",
      "3\n",
      "5\n",
      "7\n",
      "9\n"
     ]
    }
   ],
   "source": [
    "for i in 1:10\n",
    "\tif i % 2 == 0\n",
    "\t\tcontinue\n",
    "\tend\n",
    "\tprintln(i)\n",
    "end\n"
   ]
  },
  {
   "cell_type": "markdown",
   "metadata": {},
   "source": [
    "## 3.4 while文"
   ]
  },
  {
   "cell_type": "markdown",
   "metadata": {},
   "source": [
    "while文は条件が満たされている間繰り返し処理を行うための文法です。\n",
    "```julia\n",
    "while (条件)\n",
    "    処理\n",
    "end\n",
    "```\n",
    "という形で書きます。\n",
    "\n",
    "特に、\n",
    "```julia\n",
    "while true\n",
    "```\n",
    "と書くと無限ループになります。その時は、break文を使ってループを抜けるようにします。"
   ]
  },
  {
   "cell_type": "code",
   "execution_count": 18,
   "metadata": {},
   "outputs": [
    {
     "name": "stdout",
     "output_type": "stream",
     "text": [
      "1\n",
      "2\n",
      "3\n",
      "4\n",
      "5\n",
      "6\n",
      "7\n",
      "8\n",
      "9\n",
      "10\n"
     ]
    }
   ],
   "source": [
    "i = 0\n",
    "while i < 10\n",
    "\ti += 1\n",
    "\tprintln(i)\n",
    "end\n"
   ]
  },
  {
   "cell_type": "code",
   "execution_count": 20,
   "metadata": {},
   "outputs": [
    {
     "name": "stdout",
     "output_type": "stream",
     "text": [
      "1\n",
      "2\n",
      "3\n",
      "4\n",
      "5\n",
      "6\n",
      "7\n",
      "8\n",
      "9\n",
      "10\n"
     ]
    }
   ],
   "source": [
    "i = 0\n",
    "while true\n",
    "\ti += 1\n",
    "\tif i > 10\n",
    "\t\tbreak\n",
    "\tend\n",
    "\tprintln(i)\n",
    "end\n"
   ]
  },
  {
   "cell_type": "markdown",
   "metadata": {},
   "source": [
    "## 演習問題 3'"
   ]
  },
  {
   "cell_type": "markdown",
   "metadata": {},
   "source": [
    "### 1から100までの合計をwhile文を使って求めよ"
   ]
  },
  {
   "cell_type": "code",
   "execution_count": 21,
   "metadata": {},
   "outputs": [
    {
     "name": "stdout",
     "output_type": "stream",
     "text": [
      "5050\n"
     ]
    }
   ],
   "source": [
    "ans = 0\n",
    "for i in 1:100\n",
    "\tans += i\n",
    "end\n",
    "println(ans)\n"
   ]
  },
  {
   "cell_type": "code",
   "execution_count": 24,
   "metadata": {},
   "outputs": [
    {
     "ename": "UndefVarError",
     "evalue": "UndefVarError: `aaa` not defined",
     "output_type": "error",
     "traceback": [
      "UndefVarError: `aaa` not defined\n",
      "\n",
      "Stacktrace:\n",
      " [1] top-level scope\n",
      "   @ ~/Documents/julia_playground/Lecture_Julia/ja/src/lesson3.ipynb:6"
     ]
    }
   ],
   "source": [
    "ans = 0\n",
    "counter = 0\n",
    "while counter < 100\n",
    "\tcounter += 1\n",
    "\tans += counter\n",
    "end\n",
    "println(ans)\n"
   ]
  },
  {
   "cell_type": "markdown",
   "metadata": {},
   "source": [
    "## 3.4 try-except文"
   ]
  },
  {
   "cell_type": "markdown",
   "metadata": {},
   "source": [
    "try-except文はエラーが発生した場合の処理を行うための文法です。\n",
    "```julia\n",
    "try\n",
    "    処理\n",
    "catch\n",
    "    エラーが発生した場合の処理\n",
    "end\n",
    "```\n",
    "という形で書きます。"
   ]
  }
 ],
 "metadata": {
  "kernelspec": {
   "display_name": "Julia 1.10.4",
   "language": "julia",
   "name": "julia-1.10"
  },
  "language_info": {
   "file_extension": ".jl",
   "mimetype": "application/julia",
   "name": "julia",
   "version": "1.10.4"
  }
 },
 "nbformat": 4,
 "nbformat_minor": 2
}
