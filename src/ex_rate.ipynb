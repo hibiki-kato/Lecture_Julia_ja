{
 "cells": [
  {
   "cell_type": "code",
   "execution_count": null,
   "metadata": {},
   "outputs": [],
   "source": [
    "# DataFrames と　CSV をインストールする\n",
    "# using Pkg\n",
    "# Pkg.add(\"DataFrames\")\n",
    "# Pkg.add(\"CSV\")"
   ]
  },
  {
   "cell_type": "code",
   "execution_count": null,
   "metadata": {},
   "outputs": [],
   "source": [
    "using DataFrames, CSV, Dates, Plots, DynamicalSystems\n",
    "\n",
    "\n",
    "# CSVファイルを読み込む\n",
    "df = CSV.read(\"../data/ex_rate/JPY_USD_2000-01-01_to_2022-12-30.csv\", DataFrame)\n",
    "\n",
    "# 欠損値を削除  \n",
    "df = df[df.Close.!=\"null\", :]\n",
    "\n",
    "# Date列，Close列を取り出す\n",
    "date = df.Date\n",
    "close = df.Close\n",
    "\n",
    "#　Date列(month/day/year)を日付型に変換，Close列を数値型に変換\n",
    "date = Date.(date, \"mm/dd/yyyy\")\n",
    "close = parse.(Float64, close)\n",
    "\n",
    "plot(date, close)"
   ]
  },
  {
   "cell_type": "code",
   "execution_count": null,
   "metadata": {},
   "outputs": [],
   "source": [
    "delay = 1000 # 適当なcloseの時間遅れ(日)\n",
    "dim = 3 # 適当な埋め込み次元\n",
    "\n",
    "# 時間遅れのデータを作成\n",
    "data = zeros(length(close) - (dim - 1) * delay, dim)\n",
    "for i = 1:dim\n",
    "    data[:, i] = close[(dim-i)*delay+1:end-(i-1)*delay]\n",
    "end\n",
    "\n",
    "# プロット\n",
    "if dim == 2\n",
    "    scatter(data[:, 1], data[:, 2], markersize=1, label=\"delay = $delay\", xlabel=\"close(t)\", ylabel=\"close(t-$delay)\", legend=:topleft)\n",
    "else\n",
    "    scatter(data[:, 1], data[:, 2], markersize=1, data[:, 3], label=\"delay = $delay\", xlabel=\"close(t)\", ylabel=\"close(t-$delay)\", zlabel=\"close(t-2*$delay)\", legend=:topleft)\n",
    "end"
   ]
  }
 ],
 "metadata": {
  "kernelspec": {
   "display_name": "Julia 1.10.3",
   "language": "julia",
   "name": "julia-1.10"
  },
  "language_info": {
   "file_extension": ".jl",
   "mimetype": "application/julia",
   "name": "julia",
   "version": "1.10.3"
  }
 },
 "nbformat": 4,
 "nbformat_minor": 2
}
