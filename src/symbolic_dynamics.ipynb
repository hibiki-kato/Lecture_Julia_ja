{
 "cells": [
  {
   "cell_type": "code",
   "execution_count": 2,
   "metadata": {},
   "outputs": [
    {
     "data": {
      "text/plain": [
       "f (generic function with 1 method)"
      ]
     },
     "metadata": {},
     "output_type": "display_data"
    }
   ],
   "source": [
    "f(x) = 4 * x * (1-x)"
   ]
  },
  {
   "cell_type": "code",
   "execution_count": 3,
   "metadata": {},
   "outputs": [
    {
     "data": {
      "text/plain": [
       "0.84"
      ]
     },
     "metadata": {},
     "output_type": "display_data"
    }
   ],
   "source": [
    "f(0.3)"
   ]
  },
  {
   "cell_type": "code",
   "execution_count": 9,
   "metadata": {},
   "outputs": [
    {
     "data": {
      "text/plain": [
       "symbol_seq (generic function with 1 method)"
      ]
     },
     "metadata": {},
     "output_type": "display_data"
    }
   ],
   "source": [
    "x = 0.7001\n",
    "n = 5\n",
    "\n",
    "function symbol_seq(x, n)\n",
    "    s = \"\"\n",
    "    x = deepcopy(x)\n",
    "    # xが区間0, 1どちらかに入っているかを判定\n",
    "    if x < 0.5\n",
    "        s = s * \"0\"\n",
    "    else\n",
    "        s *= \"1\"\n",
    "    end\n",
    "\n",
    "    for i in 1:n-1\n",
    "        x = f(x)\n",
    "        if x < 0.5\n",
    "            s *= \"0\"\n",
    "        else\n",
    "            s *= \"1\"\n",
    "        end\n",
    "    end\n",
    "    \n",
    "    return s\n",
    "end"
   ]
  },
  {
   "cell_type": "code",
   "execution_count": 11,
   "metadata": {},
   "outputs": [
    {
     "name": "stdout",
     "output_type": "stream",
     "text": [
      "1010111001\n",
      "1010111000\n"
     ]
    }
   ],
   "source": [
    "s1 = symbol_seq(0.9, 10)\n",
    "s2 = symbol_seq(0.901, 10)\n",
    "\n",
    "println(s1)\n",
    "println(s2)"
   ]
  },
  {
   "cell_type": "code",
   "execution_count": 12,
   "metadata": {},
   "outputs": [
    {
     "name": "stdout",
     "output_type": "stream",
     "text": [
      "01011\n",
      "11100\n"
     ]
    }
   ],
   "source": [
    "x_0 = 0.4\n",
    "println(symbol_seq(x_0, n))\n",
    "x_1 = f(x)\n",
    "println(symbol_seq(x_1, n))"
   ]
  }
 ],
 "metadata": {
  "kernelspec": {
   "display_name": "Julia 1.10.5",
   "language": "julia",
   "name": "julia-1.10"
  },
  "language_info": {
   "file_extension": ".jl",
   "mimetype": "application/julia",
   "name": "julia",
   "version": "1.10.5"
  }
 },
 "nbformat": 4,
 "nbformat_minor": 2
}
