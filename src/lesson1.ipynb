{
 "cells": [
  {
   "cell_type": "markdown",
   "metadata": {},
   "source": [
    "<img src=\"./assets/logo.svg\" height=\"150\" align = \"right\"  /> \n",
    "\n",
    "# Lesson1 Julia 導入\n",
    "# 目標\n",
    "* ### Juliaの導入\n",
    "* ### REPL, Jupyter Notebookの使い方\n",
    "* ### プログラミングとは何か\n",
    "* "
   ]
  },
  {
   "cell_type": "markdown",
   "metadata": {},
   "source": [
    "# 1. Juliaとは"
   ]
  },
  {
   "cell_type": "markdown",
   "metadata": {},
   "source": [
    "**Why We Created Julia**\n",
    "\n",
    "We want a language that's open source, with a liberal license. We want the speed of C with the dynamism of Ruby. We want a language that's homoiconic, with true macros like Lisp, but with obvious, familiar mathematical notation like Matlab. We want something as usable for general programming as Python, as easy for statistics as R, as natural for string processing as Perl, as powerful for linear algebra as Matlab, as good at gluing programs together as the shell. Something that is dirt simple to learn, yet keeps the most serious hackers happy. We want it interactive and we want it compiled.\n",
    "\n",
    "オープンソースで、ライセンスが自由な言語が欲しい。C言語のスピードとRubyのダイナミズムが欲しい。Lispのような真のマクロを持ちながら、Matlabのようなわかりやすく馴染みのある数学的表記法を持つ、ホモイコニックな言語が欲しい。Pythonのように一般的なプログラミングに使え、Rのように統計に使いやすく、Perlのように文字列処理に自然で、Matlabのように線形代数に強力で、シェルのようにプログラムをまとめるのが得意なものが欲しい。学ぶのがとても簡単で、それでいて本格的なハッカーも満足できるもの。私たちは、インタラクティブで、コンパイルされたものを求めている。"
   ]
  },
  {
   "cell_type": "markdown",
   "metadata": {},
   "source": [
    "# 1. REPL"
   ]
  },
  {
   "cell_type": "markdown",
   "metadata": {},
   "source": [
    "JuliaのREPL(Read-Eval-Print Loop)は、Juliaのコードを対話的に評価するためのツールです。Juliaをインストールすると、ターミナルで`julia`と入力するとREPLが起動します。\n",
    "\n",
    "```bash\n",
    "$ julia\n",
    "               _\n",
    "   _       _ _(_)_     |  Documentation: https://docs.julialang.org\n",
    "  (_)     | (_) (_)    |\n",
    "   _ _   _| |_  __ _   |  Type \"?\" for help, \"]?\" for Pkg help.\n",
    "  | | | | | | |/ _` |  |\n",
    "  | | |_| | | | (_| |  |  Version 1.10.3 (2024-04-30)\n",
    " _/ |\\__'_|_|_|\\__'_|  |  Official https://julialang.org/ release\n",
    "|__/                   |\n",
    "\n",
    "julia>\n",
    "```\n",
    "\n",
    "\n"
   ]
  },
  {
   "cell_type": "markdown",
   "metadata": {},
   "source": [
    "# 1. .jlファイルと.ipynbファイル"
   ]
  },
  {
   "cell_type": "markdown",
   "metadata": {},
   "source": [
    "# 1. ノートブックの操作"
   ]
  },
  {
   "cell_type": "markdown",
   "metadata": {},
   "source": [
    "# 1. プログラミングとは"
   ]
  },
  {
   "cell_type": "markdown",
   "metadata": {},
   "source": [
    "プログラミングとは，あくまで計算機に命令を与えることである．そのため，プログラムを書くときには，計算機にどのような命令を与えるかを考える必要がある．\n",
    "\n",
    "計算機に与える命令は，基本的には以下のようなものである．\n",
    "- 変数(値やオブジェクトを入れる箱)の定義\n",
    "-  条件分岐(if文) ; ある条件を満たす場合には，ある処理を行い，満たさない場合には別の処理を行う\n",
    "-  繰り返し(for文, while文) ; ある処理を繰り返し行う\n",
    "-  関数の定義 ; ある処理をまとめて関数として定義する\n",
    "\n",
    "etc.\n"
   ]
  },
  {
   "cell_type": "markdown",
   "metadata": {},
   "source": [
    "**例題1**\n",
    "1から1000000までの整数の和を求めるプログラムを読んでみよう"
   ]
  },
  {
   "cell_type": "code",
   "execution_count": 9,
   "metadata": {},
   "outputs": [
    {
     "name": "stdout",
     "output_type": "stream",
     "text": [
      "5000050000\n",
      "5000050000\n"
     ]
    }
   ],
   "source": [
    "n = 100000\n",
    "ans = 0\n",
    "for i in 1:n\n",
    "    ans += i\n",
    "end\n",
    "ans2 = n * (n + 1) ÷ 2\n",
    "println(ans)\n",
    "println(ans2)"
   ]
  },
  {
   "cell_type": "markdown",
   "metadata": {},
   "source": [
    "**例題2**\n",
    "素数を判定するプログラムを読んでみよう．\n",
    "\n",
    "整数 $i$ が素数を判定するのに最も簡単な方法は，\n",
    "$2$ から $\\sqrt{i}$ までの整数で $i$ を割り切れるかどうかを調べることである．\n",
    "\n"
   ]
  },
  {
   "cell_type": "code",
   "execution_count": 21,
   "metadata": {},
   "outputs": [
    {
     "ename": "InexactError",
     "evalue": "InexactError: Int64(6573.9240944811645)",
     "output_type": "error",
     "traceback": [
      "InexactError: Int64(6573.9240944811645)\n",
      "\n",
      "Stacktrace:\n",
      " [1] Int64(x::Float64)\n",
      "   @ Base ./float.jl:912\n",
      " [2] top-level scope\n",
      "   @ ~/Documents/julia_playground/Lecture_Julia/ja/src/lesson1.ipynb:2"
     ]
    }
   ],
   "source": [
    "target = 43216479 #上式の i に相当．判定したい数\n",
    "root = Int(floor(sqrt(target - 1))) # この数の平方根の整数部分(=素因数候補のうち最大)\n",
    "typeof(root)\n",
    "# for i in 2:root::Int\n",
    "#     if target % i == 0\n",
    "#         println(i)\n",
    "#         break\n",
    "#     end\n",
    "# end\n"
   ]
  }
 ],
 "metadata": {
  "kernelspec": {
   "display_name": "Julia 1.10.3",
   "language": "julia",
   "name": "julia-1.10"
  },
  "language_info": {
   "file_extension": ".jl",
   "mimetype": "application/julia",
   "name": "julia",
   "version": "1.10.3"
  }
 },
 "nbformat": 4,
 "nbformat_minor": 2
}
