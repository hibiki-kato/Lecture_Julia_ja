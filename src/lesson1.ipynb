{
 "cells": [
  {
   "cell_type": "markdown",
   "metadata": {},
   "source": []
  },
  {
   "cell_type": "markdown",
   "metadata": {},
   "source": [
    "<img src=\"./assets/logo.svg\" height=\"150\" align = \"right\"  /> \n",
    "\n",
    "# Lesson1 Julia 導入\n",
    "# 目標\n",
    "* ### Juliaの導入\n",
    "* ### Juliaの基礎：簡単な背景情報\n",
    "* ### JuliaのIDEまたはREPL環境のセットアップ\n",
    "* ### Juliaの実践"
   ]
  },
  {
   "cell_type": "code",
   "execution_count": 3,
   "metadata": {},
   "outputs": [],
   "source": [
    "# 1. ノートブックの操作"
   ]
  }
 ],
 "metadata": {
  "kernelspec": {
   "display_name": "Julia 1.10.3",
   "language": "julia",
   "name": "julia-1.10"
  },
  "language_info": {
   "file_extension": ".jl",
   "mimetype": "application/julia",
   "name": "julia",
   "version": "1.10.3"
  }
 },
 "nbformat": 4,
 "nbformat_minor": 2
}
