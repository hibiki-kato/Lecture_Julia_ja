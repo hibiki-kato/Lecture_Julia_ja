{
 "cells": [
  {
   "cell_type": "markdown",
   "metadata": {},
   "source": [
    "<img src=\"./assets/logo.svg\" height=\"150\" align = \"right\"  /> \n",
    "\n",
    "# Lesson1 Julia 導入\n",
    "# 目標\n",
    "* ### Juliaの導入\n",
    "* ### REPL, Jupyter Notebookの使い方\n",
    "* ### プログラミングとは何か"
   ]
  },
  {
   "cell_type": "markdown",
   "metadata": {},
   "source": [
    "## 1.1 Juliaとは"
   ]
  },
  {
   "cell_type": "markdown",
   "metadata": {},
   "source": [
    "**[Why We Created Julia](https://julialang.org/blog/2012/02/why-we-created-julia/)**\n",
    " ```txt\n",
    "オープンソースで、ライセンスが自由な言語が欲しい。C言語のスピードとRubyのダイナミズムが欲しい。Lispのような真のマクロを持ちながら、Matlabのようなわかりやすく馴染みのある数学的表記法を持つ、ホモイコニックな言語(プログラムでプログラムを操作できる言語)が欲しい。Pythonのように一般的なプログラミングに使え、Rのように統計に使いやすく、Perlのように文字列処理に自然で、Matlabのように線形代数に強力で、シェルのようにプログラムをまとめるのが得意なものが欲しい。学ぶのがとても簡単で、それでいて本格的なハッカーも満足できるもの。私たちは、インタラクティブで、コンパイルされたものを求めている。\n",
    "```\n",
    "\n",
    "Juliaのプログラミングは，\n",
    "- REPLを使用したコマンドラインでのインタラクティブなプログラミング\n",
    "- .jlファイルにプログラムを書いて実行するスクリプトプログラミング\n",
    "- Jupyter Notebookを使用したノートブック形式のプログラミング\n",
    "\n",
    "が3つの方法で行うことができます。"
   ]
  },
  {
   "cell_type": "markdown",
   "metadata": {},
   "source": [
    "## 1.2 REPL(Read Eval Print Loop)の使い方"
   ]
  },
  {
   "cell_type": "markdown",
   "metadata": {},
   "source": [
    "JuliaのREPL(Read-Eval-Print Loop)は、Juliaのコードを対話的に評価するためのツールです。Juliaをインストールすると、ターミナルで`julia`と入力するとREPLが起動します。\n",
    "\n",
    "```sh\n",
    "$ julia\n",
    "               _\n",
    "   _       _ _(_)_     |  Documentation: https://docs.julialang.org\n",
    "  (_)     | (_) (_)    |\n",
    "   _ _   _| |_  __ _   |  Type \"?\" for help, \"]?\" for Pkg help.\n",
    "  | | | | | | |/ _` |  |\n",
    "  | | |_| | | | (_| |  |  Version 1.10.3 (2024-04-30)\n",
    " _/ |\\__'_|_|_|\\__'_|  |  Official https://julialang.org/ release\n",
    "|__/                   |\n",
    "\n",
    "julia>　<ここにJuliaのコードを入力する>\n",
    "```\n",
    "ここにJuliaのコードを入力すると、そのコードが評価され、結果が表示されます。\n",
    "\n",
    "```sh\n",
    "julia> 1 + 1\n",
    "2\n",
    "```\n",
    "\n",
    "JuliaのREPLは、Juliaのコードを評価するだけでなく、パッケージのインストールなども行うことができます。REPLで`]`を入力すると、パッケージモードに切り替わります。\n",
    "\n",
    "```sh\n",
    "julia> ]\n",
    "(@v1.5) pkg>\n",
    "```\n",
    "ここで、`add`コマンドを使ってパッケージをインストールすることができます。\n",
    "\n",
    "```sh\n",
    "(@v1.5) pkg> add PyPlot\n",
    "```\n",
    "\n",
    "パッケージモードを終了するには、`Ctrl + C`を入力するか，```backspace```を入力します。\n",
    "\n",
    "\n"
   ]
  },
  {
   "cell_type": "markdown",
   "metadata": {},
   "source": [
    "## 1.3 .jlファイル"
   ]
  },
  {
   "cell_type": "markdown",
   "metadata": {},
   "source": [
    "REPLで実行するにはコードが長かったり，コードを保存したい場合は、.jlファイルにプログラムを書いて実行することができます。\n",
    "実行方法は，ターミナルで`julia`コマンドに続けてファイル名を入力することで行うことができます。\n",
    "\n",
    "```sh\n",
    "$ julia hello.jl\n",
    "```\n",
    "\n",
    "試しに，以下のコードを`hello.jl`という名前で保存して実行してみましょう。\n",
    "\n",
    "```julia\n",
    "println(\"Hello, World!\")\n",
    "```"
   ]
  },
  {
   "cell_type": "markdown",
   "metadata": {},
   "source": [
    "## 1.4 Jupyter Notebook (.ipynb)"
   ]
  },
  {
   "cell_type": "markdown",
   "metadata": {},
   "source": [
    "### これです．(説明終了)\n",
    "\n",
    "Jupyter Notebookは、ブラウザ上で対話的なプログラムを書くためのツールです。Juliaのコードを書くためには、Jupyter Notebookを使うことができます。Jupyter Notebookは、Juliaのコードを評価するだけでなく、MarkdownやLaTeXを使って文章を書くこともできます。"
   ]
  },
  {
   "cell_type": "markdown",
   "metadata": {},
   "source": [
    "## 1.5 ノートブックの操作"
   ]
  },
  {
   "cell_type": "markdown",
   "metadata": {},
   "source": [
    "Sure! Here's the modified markdown content:\n",
    "Jupyter Notebookの基本的な操作方法を紹介します．\n",
    "Jupyter Notebookには，`セル`と呼ばれる入力欄があります．`セル`には，`コードセル`と`テキストセル`の2種類があります．\n",
    "\n",
    "- `コードセル`: PythonやJuliaなどのプログラムを入力するセル\n",
    "- `テキストセル`: マークダウン形式で文章を入力するセル(このセルもテキストセルです)\n",
    "\n",
    "セルを選択すると，セルの周りに枠が表示されます．選択されたセルは青色で表示されます．  \n",
    "セルの中身を編集するには，セルをダブルクリックするか，セルを選択した状態で`Enter`キーを押します．  \n",
    "セルの編集を終了するには，セルの外をクリックするか，セルを選択した状態で`Esc`キーを押します．  \n",
    "セルの移動は，キーボードの`上下矢印キー`で行います．\n",
    "\n",
    "実行やセルの追加などのセルの操作については，画面上部にあるボタンを使えば，マウスで操作することもできますが，キーボードショートカットを使うと効率的に操作できます．\n",
    "\n",
    "以下に，よく使うショートカットキーをまとめます．\n",
    "- `ctrl + Enter` or `command⌘ + Enter`: セルを実行してそのセルにとどまる\n",
    "- `a` : 現在のセルの上に新しいセルを挿入\n",
    "- `b` : 現在のセルの下に新しいセルを挿入\n",
    "- `c` : セルをコピー\n",
    "- `v` : セルを貼り付け\n",
    "- `x` : セルを切り取り\n",
    "- `dd` : セルを削除\n",
    "- `m` : テキストセルに変更\n",
    "- `y` : コードセルに変更"
   ]
  },
  {
   "cell_type": "markdown",
   "metadata": {},
   "source": [
    "## 1.6 プログラミングとは"
   ]
  },
  {
   "cell_type": "markdown",
   "metadata": {},
   "source": [
    "プログラミングとは，あくまで計算機に命令を与えることであり，そのため，プログラムを書くときには，計算機にどのような命令を与えるかを考えます．\n",
    "\n",
    "計算機に与える命令は，基本的には以下のようなものです．\n",
    "- 変数(値やオブジェクトを入れる箱)の定義\n",
    "-  条件分岐(if文) ; ある条件を満たす場合には，ある処理を行い，満たさない場合には別の処理を行う\n",
    "-  繰り返し(for文, while文) ; ある処理を繰り返し行う\n",
    "-  関数の定義 ; ある処理をまとめて関数として定義する\n",
    "\n",
    "etc.\n",
    "\n",
    "プログラムの書き方の前に，その課題をどのようにプログラムに落とし込むかを考えることが重要です．  \n",
    "プログラムの流れを考えるには，フローチャートを書くことが有効です．(慣れたら直接プログラムを書くこともできます)"
   ]
  },
  {
   "cell_type": "markdown",
   "metadata": {},
   "source": [
    "**例題1**\n",
    "\n",
    "1から1000までの整数の和を求めてみよう"
   ]
  },
  {
   "cell_type": "code",
   "execution_count": null,
   "metadata": {},
   "outputs": [],
   "source": [
    "n = 1000\n",
    "ans = 0\n",
    "for i in 1:n\n",
    "    ans += i\n",
    "end\n",
    "ans2 = n * (n + 1) ÷ 2\n",
    "println(ans)\n",
    "println(ans2)"
   ]
  },
  {
   "cell_type": "markdown",
   "metadata": {},
   "source": [
    "**例題2**\n",
    "素数を判定するプログラムを読んでみよう．\n",
    "\n",
    "整数 $i$ が素数を判定するのに最も簡単な方法は，\n",
    "$2$ から $\\sqrt{i}$ までの整数で $i$ を割り切れるかどうかを調べることである．\n",
    "\n"
   ]
  },
  {
   "cell_type": "code",
   "execution_count": null,
   "metadata": {},
   "outputs": [],
   "source": [
    "target = 44453479 #上式の i に相当．判定したい数\n",
    "\n",
    "root = Int(floor(sqrt(target - 1))) # この数の平方根の整数部分(=素因数候補のうち最大)\n",
    "found = false # 素数かどうかのフラグ(合成数が見つかったらtrueにする)\n",
    "\n",
    "# i　という変数を 2 から root まで動かす．\n",
    "for i in 2:root\n",
    "    # target が i で割り切れるかどうかを判定\n",
    "    if target % i == 0\n",
    "        println(\"合成数です．$i を素因数に持ちます．\")\n",
    "        found = true\n",
    "        break\n",
    "    end\n",
    "    # 割り切れない場合は何もしない\n",
    "end\n",
    "# 合成数が見つからなかった場合(found が false のままの場合)\n",
    "if !found\n",
    "    println(\"素数です\")\n",
    "end\n"
   ]
  },
  {
   "cell_type": "markdown",
   "metadata": {},
   "source": [
    "**例題3**\n",
    "ロジスティック写像の振る舞いを調べてみよう．\n",
    "ロジスティック写像は次のように定義される．\n",
    "<div align=\"center\">\n",
    "\n",
    "### $x_{n+1} = r x_n (1 - x_n)$\n",
    "</div>\n",
    "\n",
    "ここで，$x_n$ は時刻 $n$ における値，$r$ はパラメータである．$r$ の値によって，ロジスティック写像の振る舞いが変わる．\n",
    "上の漸化式で定義される数列が，どのような振る舞いをするかを調べるには，\n",
    "初期値 $x_0$ とパラメータ $r$ を与えると，$x_n$ を計算するプログラムを書いてみると良い．"
   ]
  },
  {
   "cell_type": "code",
   "execution_count": null,
   "metadata": {},
   "outputs": [],
   "source": [
    "using Plots # プロット用のパッケージをインポート(使いますよという宣言)\n",
    "\n",
    "# ロジスティック写像の定義\n",
    "function logistic(x, r) # x: 現在の値, r: パラメータ\n",
    "    return r * x * (1 - x) # 受け取ったx, rに対してロジスティック写像を適用して返す\n",
    "end\n",
    "\n",
    "x_0 = 0.333 # 初期値\n",
    "r = -1.9 # パラメータ (-2~4の範囲で変化させてみましょう)\n",
    "n = 100 # 繰り返し回数\n",
    "\n",
    "x = zeros(n + 1) # x の値を格納する配列(ベクトル)を用意(長さは n+1 にしておく)\n",
    "\n",
    "# ベクトルのi番目の要素にアクセスするときは x[i] と書く\n",
    "x[1] = x_0 # 初期値を代入\n",
    "\n",
    "# i番目の要素x[i]を使って，i+1番目の要素x[i+1]を計算する操作をn回繰り返す\n",
    "for i in 1:n\n",
    "    x[i+1] = logistic(x[i], r)\n",
    "end\n",
    "\n",
    "# ベクトルを可視化してみる\n",
    "plot(x)"
   ]
  }
 ],
 "metadata": {
  "kernelspec": {
   "display_name": "Julia 1.10.3",
   "language": "julia",
   "name": "julia-1.10"
  },
  "language_info": {
   "file_extension": ".jl",
   "mimetype": "application/julia",
   "name": "julia",
   "version": "1.10.3"
  }
 },
 "nbformat": 4,
 "nbformat_minor": 2
}
