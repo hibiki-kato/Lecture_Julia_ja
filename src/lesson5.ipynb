{
 "cells": [
  {
   "cell_type": "markdown",
   "metadata": {},
   "source": [
    "# Lesson5 コレクション\n",
    "# 目標\n",
    "* ### 関数を理解する"
   ]
  }
 ],
 "metadata": {
  "language_info": {
   "name": "python"
  }
 },
 "nbformat": 4,
 "nbformat_minor": 2
}
