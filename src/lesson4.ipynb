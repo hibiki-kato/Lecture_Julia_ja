{
 "cells": [
  {
   "cell_type": "markdown",
   "metadata": {
    "vscode": {
     "languageId": "julia"
    }
   },
   "source": [
    "# Lesson4 関数\n",
    "# 目標\n",
    "* ### 関数を理解する"
   ]
  },
  {
   "cell_type": "markdown",
   "metadata": {},
   "source": [
    "## 4.1関数"
   ]
  },
  {
   "cell_type": "markdown",
   "metadata": {},
   "source": [
    "関数は、プログラムの中で繰り返し使われる処理をまとめたものです。関数を使うことで、同じ処理を何度も書く必要がなくなり、プログラムの見通しがよくなります。\n",
    "\n",
    "関数は、以下のように定義します。\n",
    "\n",
    "```julia\n",
    "function 関数名(引数1, 引数2, ...)\n",
    "    処理\n",
    "    return 戻り値\n",
    "end\n",
    "```\n",
    "ここで、引数は関数に渡す値で、関数の処理の中で使うことができます。戻り値は、関数の処理の結果を返す値です。戻り値は省略することもできます。\n",
    "\n",
    "以下の例を見てみましょう。"
   ]
  },
  {
   "cell_type": "code",
   "execution_count": 6,
   "metadata": {},
   "outputs": [
    {
     "data": {
      "text/plain": [
       "0.8640000000000001"
      ]
     },
     "metadata": {},
     "output_type": "display_data"
    }
   ],
   "source": [
    "function logisitic_map(x, r)\n",
    "    return r * x * (1 - x)\n",
    "end\n",
    "\n",
    "logisitic_map(0.4, 3.6)"
   ]
  }
 ],
 "metadata": {
  "kernelspec": {
   "display_name": "Julia 1.10.3",
   "language": "julia",
   "name": "julia-1.10"
  },
  "language_info": {
   "file_extension": ".jl",
   "mimetype": "application/julia",
   "name": "julia",
   "version": "1.10.3"
  }
 },
 "nbformat": 4,
 "nbformat_minor": 2
}
