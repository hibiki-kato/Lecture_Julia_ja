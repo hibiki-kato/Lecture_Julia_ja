{
 "cells": [
  {
   "cell_type": "markdown",
   "metadata": {
    "vscode": {
     "languageId": "julia"
    }
   },
   "source": [
    "# Lesson4 関数\n",
    "# 目標\n",
    "* ### 関数を理解する"
   ]
  },
  {
   "cell_type": "markdown",
   "metadata": {},
   "source": [
    "## 4.1関数"
   ]
  },
  {
   "cell_type": "markdown",
   "metadata": {},
   "source": [
    "関数は、プログラムの中で繰り返し使われる処理をまとめたものです。関数を使うことで、同じ処理を何度も書く必要がなくなり、プログラムの見通しがよくなります。\n",
    "\n",
    "関数は、以下のように定義します。\n",
    "\n",
    "```julia\n",
    "function 関数名(引数1, 引数2, ...)\n",
    "    処理\n",
    "    return 戻り値\n",
    "end\n",
    "```\n",
    "ここで、引数は関数に渡す値で、関数の処理の中で使うことができます。戻り値は、関数の処理の結果を返す値です。戻り値は省略することもできます。\n",
    "\n",
    "以下の例を見てみましょう。"
   ]
  },
  {
   "cell_type": "code",
   "execution_count": null,
   "metadata": {},
   "outputs": [],
   "source": [
    "function logisitic_map(x, r)\n",
    "    return r * x * (1 - x)\n",
    "end\n",
    "\n",
    "logisitic_map(0.4, 3.6)"
   ]
  },
  {
   "cell_type": "markdown",
   "metadata": {},
   "source": [
    "! 注意\n",
    "\n",
    "関数に渡した引数は、関数の処理の中で変更した場合でも、元の変数には影響しません。\n",
    "    \n",
    "```julia\n",
    "a = 1\n",
    "function plus(a)\n",
    "    a + 1\n",
    "    return a\n",
    "end\n",
    "\n",
    "b = plus(a)\n",
    "\n",
    "println(a) # 1\n",
    "println(b) # 2\n",
    "```\n",
    "\n",
    "しかし，配列などの変更可能(mutable)なオブジェクトを関数に渡した場合，関数の処理の中で変更すると，元の変数にも影響が及びます。\n",
    "\n",
    "```julia\n",
    "a = [1, 2, 3]\n",
    "function plus(a)\n",
    "    for i in 1:length(a)\n",
    "        a[i] += 1\n",
    "    end\n",
    "    return a\n",
    "end\n"
   ]
  },
  {
   "cell_type": "code",
   "execution_count": null,
   "metadata": {},
   "outputs": [],
   "source": []
  }
 ],
 "metadata": {
  "kernelspec": {
   "display_name": "Julia 1.10.3",
   "language": "julia",
   "name": "julia-1.10"
  },
  "language_info": {
   "file_extension": ".jl",
   "mimetype": "application/julia",
   "name": "julia",
   "version": "1.10.3"
  }
 },
 "nbformat": 4,
 "nbformat_minor": 2
}
