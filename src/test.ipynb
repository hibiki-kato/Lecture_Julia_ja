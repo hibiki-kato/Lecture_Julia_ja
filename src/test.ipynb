{
 "cells": [
  {
   "cell_type": "code",
   "execution_count": 3,
   "metadata": {},
   "outputs": [
    {
     "name": "stderr",
     "output_type": "stream",
     "text": [
      "\u001b[32m\u001b[1m    Updating\u001b[22m\u001b[39m registry at `~/.julia/registries/General.toml`\n",
      "\u001b[32m\u001b[1m   Resolving\u001b[22m\u001b[39m package versions...\n",
      "\u001b[32m\u001b[1m  No Changes\u001b[22m\u001b[39m to `~/.julia/environments/v1.10/Project.toml`\n",
      "\u001b[32m\u001b[1m  No Changes\u001b[22m\u001b[39m to `~/.julia/environments/v1.10/Manifest.toml`\n",
      "\u001b[32m\u001b[1m   Resolving\u001b[22m\u001b[39m package versions...\n",
      "\u001b[32m\u001b[1m  No Changes\u001b[22m\u001b[39m to `~/.julia/environments/v1.10/Project.toml`\n",
      "\u001b[32m\u001b[1m  No Changes\u001b[22m\u001b[39m to `~/.julia/environments/v1.10/Manifest.toml`\n"
     ]
    }
   ],
   "source": [
    "using Pkg\n",
    "Pkg.add(\"CSV\")\n",
    "Pkg.add(\"DataFrames\")"
   ]
  },
  {
   "cell_type": "code",
   "execution_count": 4,
   "metadata": {},
   "outputs": [],
   "source": [
    "using CSV, DataFrames"
   ]
  },
  {
   "cell_type": "code",
   "execution_count": 5,
   "metadata": {},
   "outputs": [
    {
     "data": {
      "text/html": [
       "<div><div style = \"float: left;\"><span>6000×8 DataFrame</span></div><div style = \"float: right;\"><span style = \"font-style: italic;\">5975 rows omitted</span></div><div style = \"clear: both;\"></div></div><div class = \"data-frame\" style = \"overflow-x: scroll;\"><table class = \"data-frame\" style = \"margin-bottom: 6px;\"><thead><tr class = \"header\"><th class = \"rowNumber\" style = \"font-weight: bold; text-align: right;\">Row</th><th style = \"text-align: left;\">Date</th><th style = \"text-align: left;\">Open</th><th style = \"text-align: left;\">High</th><th style = \"text-align: left;\">Low</th><th style = \"text-align: left;\">Close</th><th style = \"text-align: left;\">Adj Close</th><th style = \"text-align: left;\">Volume</th><th style = \"text-align: left;\">Cur</th></tr><tr class = \"subheader headerLastRow\"><th class = \"rowNumber\" style = \"font-weight: bold; text-align: right;\"></th><th title = \"String15\" style = \"text-align: left;\">String15</th><th title = \"String15\" style = \"text-align: left;\">String15</th><th title = \"String15\" style = \"text-align: left;\">String15</th><th title = \"String15\" style = \"text-align: left;\">String15</th><th title = \"String15\" style = \"text-align: left;\">String15</th><th title = \"String15\" style = \"text-align: left;\">String15</th><th title = \"String7\" style = \"text-align: left;\">String7</th><th title = \"String3\" style = \"text-align: left;\">String3</th></tr></thead><tbody><tr><td class = \"rowNumber\" style = \"font-weight: bold; text-align: right;\">1</td><td style = \"text-align: left;\">1/3/2000</td><td style = \"text-align: left;\">0.009797</td><td style = \"text-align: left;\">0.009871</td><td style = \"text-align: left;\">0.009678</td><td style = \"text-align: left;\">0.009834</td><td style = \"text-align: left;\">0.009834</td><td style = \"text-align: left;\">0</td><td style = \"text-align: left;\">JPY</td></tr><tr><td class = \"rowNumber\" style = \"font-weight: bold; text-align: right;\">2</td><td style = \"text-align: left;\">1/4/2000</td><td style = \"text-align: left;\">0.009839</td><td style = \"text-align: left;\">0.009855</td><td style = \"text-align: left;\">0.009679</td><td style = \"text-align: left;\">0.009696</td><td style = \"text-align: left;\">0.009696</td><td style = \"text-align: left;\">0</td><td style = \"text-align: left;\">JPY</td></tr><tr><td class = \"rowNumber\" style = \"font-weight: bold; text-align: right;\">3</td><td style = \"text-align: left;\">1/5/2000</td><td style = \"text-align: left;\">0.009696</td><td style = \"text-align: left;\">0.009732</td><td style = \"text-align: left;\">0.009571</td><td style = \"text-align: left;\">0.009607</td><td style = \"text-align: left;\">0.009607</td><td style = \"text-align: left;\">0</td><td style = \"text-align: left;\">JPY</td></tr><tr><td class = \"rowNumber\" style = \"font-weight: bold; text-align: right;\">4</td><td style = \"text-align: left;\">1/6/2000</td><td style = \"text-align: left;\">0.009607</td><td style = \"text-align: left;\">0.009625</td><td style = \"text-align: left;\">0.009473</td><td style = \"text-align: left;\">0.009503</td><td style = \"text-align: left;\">0.009503</td><td style = \"text-align: left;\">0</td><td style = \"text-align: left;\">JPY</td></tr><tr><td class = \"rowNumber\" style = \"font-weight: bold; text-align: right;\">5</td><td style = \"text-align: left;\">1/7/2000</td><td style = \"text-align: left;\">0.0095</td><td style = \"text-align: left;\">0.009539</td><td style = \"text-align: left;\">0.009445</td><td style = \"text-align: left;\">0.009494</td><td style = \"text-align: left;\">0.009494</td><td style = \"text-align: left;\">0</td><td style = \"text-align: left;\">JPY</td></tr><tr><td class = \"rowNumber\" style = \"font-weight: bold; text-align: right;\">6</td><td style = \"text-align: left;\">1/10/2000</td><td style = \"text-align: left;\">0.009515</td><td style = \"text-align: left;\">0.00959</td><td style = \"text-align: left;\">0.009447</td><td style = \"text-align: left;\">0.009509</td><td style = \"text-align: left;\">0.009509</td><td style = \"text-align: left;\">0</td><td style = \"text-align: left;\">JPY</td></tr><tr><td class = \"rowNumber\" style = \"font-weight: bold; text-align: right;\">7</td><td style = \"text-align: left;\">1/11/2000</td><td style = \"text-align: left;\">0.00951</td><td style = \"text-align: left;\">0.009519</td><td style = \"text-align: left;\">0.009406</td><td style = \"text-align: left;\">0.009432</td><td style = \"text-align: left;\">0.009432</td><td style = \"text-align: left;\">0</td><td style = \"text-align: left;\">JPY</td></tr><tr><td class = \"rowNumber\" style = \"font-weight: bold; text-align: right;\">8</td><td style = \"text-align: left;\">1/12/2000</td><td style = \"text-align: left;\">0.009433</td><td style = \"text-align: left;\">0.00948</td><td style = \"text-align: left;\">0.009319</td><td style = \"text-align: left;\">0.00946</td><td style = \"text-align: left;\">0.00946</td><td style = \"text-align: left;\">0</td><td style = \"text-align: left;\">JPY</td></tr><tr><td class = \"rowNumber\" style = \"font-weight: bold; text-align: right;\">9</td><td style = \"text-align: left;\">1/13/2000</td><td style = \"text-align: left;\">0.009459</td><td style = \"text-align: left;\">0.009489</td><td style = \"text-align: left;\">0.009414</td><td style = \"text-align: left;\">0.009432</td><td style = \"text-align: left;\">0.009432</td><td style = \"text-align: left;\">0</td><td style = \"text-align: left;\">JPY</td></tr><tr><td class = \"rowNumber\" style = \"font-weight: bold; text-align: right;\">10</td><td style = \"text-align: left;\">1/14/2000</td><td style = \"text-align: left;\">0.009427</td><td style = \"text-align: left;\">0.009487</td><td style = \"text-align: left;\">0.009383</td><td style = \"text-align: left;\">0.009445</td><td style = \"text-align: left;\">0.009445</td><td style = \"text-align: left;\">0</td><td style = \"text-align: left;\">JPY</td></tr><tr><td class = \"rowNumber\" style = \"font-weight: bold; text-align: right;\">11</td><td style = \"text-align: left;\">1/17/2000</td><td style = \"text-align: left;\">0.009448</td><td style = \"text-align: left;\">0.009592</td><td style = \"text-align: left;\">0.009446</td><td style = \"text-align: left;\">0.009534</td><td style = \"text-align: left;\">0.009534</td><td style = \"text-align: left;\">0</td><td style = \"text-align: left;\">JPY</td></tr><tr><td class = \"rowNumber\" style = \"font-weight: bold; text-align: right;\">12</td><td style = \"text-align: left;\">1/18/2000</td><td style = \"text-align: left;\">0.009533</td><td style = \"text-align: left;\">0.009548</td><td style = \"text-align: left;\">0.009311</td><td style = \"text-align: left;\">0.009464</td><td style = \"text-align: left;\">0.009464</td><td style = \"text-align: left;\">0</td><td style = \"text-align: left;\">JPY</td></tr><tr><td class = \"rowNumber\" style = \"font-weight: bold; text-align: right;\">13</td><td style = \"text-align: left;\">1/19/2000</td><td style = \"text-align: left;\">0.009467</td><td style = \"text-align: left;\">0.009514</td><td style = \"text-align: left;\">0.009426</td><td style = \"text-align: left;\">0.0095</td><td style = \"text-align: left;\">0.0095</td><td style = \"text-align: left;\">0</td><td style = \"text-align: left;\">JPY</td></tr><tr><td style = \"text-align: right;\">&vellip;</td><td style = \"text-align: right;\">&vellip;</td><td style = \"text-align: right;\">&vellip;</td><td style = \"text-align: right;\">&vellip;</td><td style = \"text-align: right;\">&vellip;</td><td style = \"text-align: right;\">&vellip;</td><td style = \"text-align: right;\">&vellip;</td><td style = \"text-align: right;\">&vellip;</td><td style = \"text-align: right;\">&vellip;</td></tr><tr><td class = \"rowNumber\" style = \"font-weight: bold; text-align: right;\">5989</td><td style = \"text-align: left;\">12/15/2022</td><td style = \"text-align: left;\">0.007388</td><td style = \"text-align: left;\">0.007392</td><td style = \"text-align: left;\">0.007251</td><td style = \"text-align: left;\">0.007388</td><td style = \"text-align: left;\">0.007388</td><td style = \"text-align: left;\">0</td><td style = \"text-align: left;\">JPY</td></tr><tr><td class = \"rowNumber\" style = \"font-weight: bold; text-align: right;\">5990</td><td style = \"text-align: left;\">12/16/2022</td><td style = \"text-align: left;\">0.007259</td><td style = \"text-align: left;\">0.007331</td><td style = \"text-align: left;\">0.007259</td><td style = \"text-align: left;\">0.007259</td><td style = \"text-align: left;\">0.007259</td><td style = \"text-align: left;\">0</td><td style = \"text-align: left;\">JPY</td></tr><tr><td class = \"rowNumber\" style = \"font-weight: bold; text-align: right;\">5991</td><td style = \"text-align: left;\">12/19/2022</td><td style = \"text-align: left;\">0.007351</td><td style = \"text-align: left;\">0.007365</td><td style = \"text-align: left;\">0.007291</td><td style = \"text-align: left;\">0.007316</td><td style = \"text-align: left;\">0.007316</td><td style = \"text-align: left;\">0</td><td style = \"text-align: left;\">JPY</td></tr><tr><td class = \"rowNumber\" style = \"font-weight: bold; text-align: right;\">5992</td><td style = \"text-align: left;\">12/20/2022</td><td style = \"text-align: left;\">0.0073</td><td style = \"text-align: left;\">0.007633</td><td style = \"text-align: left;\">0.007275</td><td style = \"text-align: left;\">0.0073</td><td style = \"text-align: left;\">0.0073</td><td style = \"text-align: left;\">0</td><td style = \"text-align: left;\">JPY</td></tr><tr><td class = \"rowNumber\" style = \"font-weight: bold; text-align: right;\">5993</td><td style = \"text-align: left;\">12/21/2022</td><td style = \"text-align: left;\">0.007582</td><td style = \"text-align: left;\">0.007603</td><td style = \"text-align: left;\">0.007549</td><td style = \"text-align: left;\">0.007582</td><td style = \"text-align: left;\">0.007582</td><td style = \"text-align: left;\">0</td><td style = \"text-align: left;\">JPY</td></tr><tr><td class = \"rowNumber\" style = \"font-weight: bold; text-align: right;\">5994</td><td style = \"text-align: left;\">12/22/2022</td><td style = \"text-align: left;\">0.007555</td><td style = \"text-align: left;\">0.007596</td><td style = \"text-align: left;\">0.007537</td><td style = \"text-align: left;\">0.007555</td><td style = \"text-align: left;\">0.007555</td><td style = \"text-align: left;\">0</td><td style = \"text-align: left;\">JPY</td></tr><tr><td class = \"rowNumber\" style = \"font-weight: bold; text-align: right;\">5995</td><td style = \"text-align: left;\">12/23/2022</td><td style = \"text-align: left;\">0.007555</td><td style = \"text-align: left;\">0.007559</td><td style = \"text-align: left;\">0.007512</td><td style = \"text-align: left;\">0.007555</td><td style = \"text-align: left;\">0.007555</td><td style = \"text-align: left;\">0</td><td style = \"text-align: left;\">JPY</td></tr><tr><td class = \"rowNumber\" style = \"font-weight: bold; text-align: right;\">5996</td><td style = \"text-align: left;\">12/26/2022</td><td style = \"text-align: left;\">0.007532</td><td style = \"text-align: left;\">0.007557</td><td style = \"text-align: left;\">0.007505</td><td style = \"text-align: left;\">0.007531</td><td style = \"text-align: left;\">0.007531</td><td style = \"text-align: left;\">0</td><td style = \"text-align: left;\">JPY</td></tr><tr><td class = \"rowNumber\" style = \"font-weight: bold; text-align: right;\">5997</td><td style = \"text-align: left;\">12/27/2022</td><td style = \"text-align: left;\">0.007532</td><td style = \"text-align: left;\">0.007539</td><td style = \"text-align: left;\">0.007486</td><td style = \"text-align: left;\">0.007532</td><td style = \"text-align: left;\">0.007532</td><td style = \"text-align: left;\">0</td><td style = \"text-align: left;\">JPY</td></tr><tr><td class = \"rowNumber\" style = \"font-weight: bold; text-align: right;\">5998</td><td style = \"text-align: left;\">12/28/2022</td><td style = \"text-align: left;\">0.007491</td><td style = \"text-align: left;\">0.007496</td><td style = \"text-align: left;\">0.007441</td><td style = \"text-align: left;\">0.007491</td><td style = \"text-align: left;\">0.007491</td><td style = \"text-align: left;\">0</td><td style = \"text-align: left;\">JPY</td></tr><tr><td class = \"rowNumber\" style = \"font-weight: bold; text-align: right;\">5999</td><td style = \"text-align: left;\">12/29/2022</td><td style = \"text-align: left;\">0.007461</td><td style = \"text-align: left;\">0.007522</td><td style = \"text-align: left;\">0.007452</td><td style = \"text-align: left;\">0.007461</td><td style = \"text-align: left;\">0.007461</td><td style = \"text-align: left;\">0</td><td style = \"text-align: left;\">JPY</td></tr><tr><td class = \"rowNumber\" style = \"font-weight: bold; text-align: right;\">6000</td><td style = \"text-align: left;\">12/30/2022</td><td style = \"text-align: left;\">0.007524</td><td style = \"text-align: left;\">0.007602</td><td style = \"text-align: left;\">0.007523</td><td style = \"text-align: left;\">0.007524</td><td style = \"text-align: left;\">0.007524</td><td style = \"text-align: left;\">0</td><td style = \"text-align: left;\">JPY</td></tr></tbody></table></div>"
      ],
      "text/latex": [
       "\\begin{tabular}{r|cccccccc}\n",
       "\t& Date & Open & High & Low & Close & Adj Close & Volume & Cur\\\\\n",
       "\t\\hline\n",
       "\t& String15 & String15 & String15 & String15 & String15 & String15 & String7 & String3\\\\\n",
       "\t\\hline\n",
       "\t1 & 1/3/2000 & 0.009797 & 0.009871 & 0.009678 & 0.009834 & 0.009834 & 0 & JPY \\\\\n",
       "\t2 & 1/4/2000 & 0.009839 & 0.009855 & 0.009679 & 0.009696 & 0.009696 & 0 & JPY \\\\\n",
       "\t3 & 1/5/2000 & 0.009696 & 0.009732 & 0.009571 & 0.009607 & 0.009607 & 0 & JPY \\\\\n",
       "\t4 & 1/6/2000 & 0.009607 & 0.009625 & 0.009473 & 0.009503 & 0.009503 & 0 & JPY \\\\\n",
       "\t5 & 1/7/2000 & 0.0095 & 0.009539 & 0.009445 & 0.009494 & 0.009494 & 0 & JPY \\\\\n",
       "\t6 & 1/10/2000 & 0.009515 & 0.00959 & 0.009447 & 0.009509 & 0.009509 & 0 & JPY \\\\\n",
       "\t7 & 1/11/2000 & 0.00951 & 0.009519 & 0.009406 & 0.009432 & 0.009432 & 0 & JPY \\\\\n",
       "\t8 & 1/12/2000 & 0.009433 & 0.00948 & 0.009319 & 0.00946 & 0.00946 & 0 & JPY \\\\\n",
       "\t9 & 1/13/2000 & 0.009459 & 0.009489 & 0.009414 & 0.009432 & 0.009432 & 0 & JPY \\\\\n",
       "\t10 & 1/14/2000 & 0.009427 & 0.009487 & 0.009383 & 0.009445 & 0.009445 & 0 & JPY \\\\\n",
       "\t11 & 1/17/2000 & 0.009448 & 0.009592 & 0.009446 & 0.009534 & 0.009534 & 0 & JPY \\\\\n",
       "\t12 & 1/18/2000 & 0.009533 & 0.009548 & 0.009311 & 0.009464 & 0.009464 & 0 & JPY \\\\\n",
       "\t13 & 1/19/2000 & 0.009467 & 0.009514 & 0.009426 & 0.0095 & 0.0095 & 0 & JPY \\\\\n",
       "\t14 & 1/20/2000 & 0.009498 & 0.009524 & 0.00946 & 0.009496 & 0.009496 & 0 & JPY \\\\\n",
       "\t15 & 1/21/2000 & 0.009492 & 0.00958 & 0.009489 & 0.009549 & 0.009549 & 0 & JPY \\\\\n",
       "\t16 & 1/24/2000 & 0.009524 & 0.009549 & 0.009448 & 0.009465 & 0.009465 & 0 & JPY \\\\\n",
       "\t17 & 1/25/2000 & 0.009473 & 0.009537 & 0.009429 & 0.009446 & 0.009446 & 0 & JPY \\\\\n",
       "\t18 & 1/26/2000 & 0.009441 & 0.009501 & 0.009407 & 0.009471 & 0.009471 & 0 & JPY \\\\\n",
       "\t19 & 1/27/2000 & 0.009471 & 0.009606 & 0.009443 & 0.009525 & 0.009525 & 0 & JPY \\\\\n",
       "\t20 & 1/28/2000 & 0.009526 & 0.009569 & 0.009324 & 0.009341 & 0.009341 & 0 & JPY \\\\\n",
       "\t21 & 1/31/2000 & 0.009363 & 0.009386 & 0.009301 & 0.009328 & 0.009328 & 0 & JPY \\\\\n",
       "\t22 & 2/1/2000 & 0.009329 & 0.009346 & 0.009266 & 0.009282 & 0.009282 & 0 & JPY \\\\\n",
       "\t23 & 2/2/2000 & 0.009276 & 0.0093 & 0.009171 & 0.009251 & 0.009251 & 0 & JPY \\\\\n",
       "\t24 & 2/3/2000 & 0.009255 & 0.009336 & 0.009194 & 0.009307 & 0.009307 & 0 & JPY \\\\\n",
       "\t$\\dots$ & $\\dots$ & $\\dots$ & $\\dots$ & $\\dots$ & $\\dots$ & $\\dots$ & $\\dots$ & $\\dots$ \\\\\n",
       "\\end{tabular}\n"
      ],
      "text/plain": [
       "\u001b[1m6000×8 DataFrame\u001b[0m\n",
       "\u001b[1m  Row \u001b[0m│\u001b[1m Date       \u001b[0m\u001b[1m Open     \u001b[0m\u001b[1m High     \u001b[0m\u001b[1m Low      \u001b[0m\u001b[1m Close    \u001b[0m\u001b[1m Adj Close \u001b[0m\u001b[1m Volume \u001b[0m ⋯\n",
       "      │\u001b[90m String15   \u001b[0m\u001b[90m String15 \u001b[0m\u001b[90m String15 \u001b[0m\u001b[90m String15 \u001b[0m\u001b[90m String15 \u001b[0m\u001b[90m String15  \u001b[0m\u001b[90m String7\u001b[0m ⋯\n",
       "──────┼─────────────────────────────────────────────────────────────────────────\n",
       "    1 │ 1/3/2000    0.009797  0.009871  0.009678  0.009834  0.009834   0       ⋯\n",
       "    2 │ 1/4/2000    0.009839  0.009855  0.009679  0.009696  0.009696   0\n",
       "    3 │ 1/5/2000    0.009696  0.009732  0.009571  0.009607  0.009607   0\n",
       "    4 │ 1/6/2000    0.009607  0.009625  0.009473  0.009503  0.009503   0\n",
       "    5 │ 1/7/2000    0.0095    0.009539  0.009445  0.009494  0.009494   0       ⋯\n",
       "    6 │ 1/10/2000   0.009515  0.00959   0.009447  0.009509  0.009509   0\n",
       "    7 │ 1/11/2000   0.00951   0.009519  0.009406  0.009432  0.009432   0\n",
       "    8 │ 1/12/2000   0.009433  0.00948   0.009319  0.00946   0.00946    0\n",
       "  ⋮   │     ⋮          ⋮         ⋮         ⋮         ⋮          ⋮         ⋮    ⋱\n",
       " 5994 │ 12/22/2022  0.007555  0.007596  0.007537  0.007555  0.007555   0       ⋯\n",
       " 5995 │ 12/23/2022  0.007555  0.007559  0.007512  0.007555  0.007555   0\n",
       " 5996 │ 12/26/2022  0.007532  0.007557  0.007505  0.007531  0.007531   0\n",
       " 5997 │ 12/27/2022  0.007532  0.007539  0.007486  0.007532  0.007532   0\n",
       " 5998 │ 12/28/2022  0.007491  0.007496  0.007441  0.007491  0.007491   0       ⋯\n",
       " 5999 │ 12/29/2022  0.007461  0.007522  0.007452  0.007461  0.007461   0\n",
       " 6000 │ 12/30/2022  0.007524  0.007602  0.007523  0.007524  0.007524   0\n",
       "\u001b[36m                                                  1 column and 5985 rows omitted\u001b[0m"
      ]
     },
     "metadata": {},
     "output_type": "display_data"
    }
   ],
   "source": [
    "# CSVファイルを読み込む\n",
    "df = CSV.read(\"../data/ex_rate/JPY_USD_2000-01-01_to_2022-12-30.csv\", DataFrame)"
   ]
  }
 ],
 "metadata": {
  "kernelspec": {
   "display_name": "Julia 1.11.0",
   "language": "julia",
   "name": "julia-1.11"
  },
  "language_info": {
   "file_extension": ".jl",
   "mimetype": "application/julia",
   "name": "julia",
   "version": "1.11.0"
  }
 },
 "nbformat": 4,
 "nbformat_minor": 2
}
