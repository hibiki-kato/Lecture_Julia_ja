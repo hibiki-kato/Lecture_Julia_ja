{
 "cells": [
  {
   "cell_type": "code",
   "execution_count": 2,
   "metadata": {},
   "outputs": [],
   "source": [
    "using Plots, Statistics"
   ]
  },
  {
   "cell_type": "code",
   "execution_count": 3,
   "metadata": {},
   "outputs": [],
   "source": [
    "function henon_map(x::Vector{Float64})\n",
    "    y = similar(x)\n",
    "    a = 1.4\n",
    "    b = 0.3\n",
    "    y[1] = 1 - a * x[1]^2 + x[2]\n",
    "    y[2] = b * x[1]\n",
    "    return y\n",
    "end\n",
    "\n",
    "x_0 = [0.1, 0.1]\n",
    "N = 1000\n",
    "\n",
    "trajectory = zeros(2, N + 1)\n",
    "trajectory[:, 1] = x_0\n",
    "for i in 1:N\n",
    "    trajectory[:, i+1] = henon_map(trajectory[:, i])\n",
    "end"
   ]
  },
  {
   "cell_type": "code",
   "execution_count": null,
   "metadata": {},
   "outputs": [],
   "source": [
    "scatter(trajectory[1, :], trajectory[2, :])"
   ]
  },
  {
   "cell_type": "code",
   "execution_count": null,
   "metadata": {},
   "outputs": [],
   "source": [
    "function make_delay_coordinate(x::Vector{Float64}, delay::Int, num::Int)\n",
    "    delay_coords = zeros(length(x) - delay * (num - 1), num)\n",
    "    for i in 1:num\n",
    "        delay_coords[:, i] = x[(i-1)*delay+1:end-(num-i)*delay]\n",
    "    end\n",
    "    return delay_coords\n",
    "end"
   ]
  },
  {
   "cell_type": "code",
   "execution_count": null,
   "metadata": {},
   "outputs": [],
   "source": [
    "delay = 1\n",
    "x_delay = trajectory[1, 1:end-delay]\n",
    "x_original = trajectory[1, delay+1:end]\n",
    "\n",
    "plt = scatter(x_original, x_delay, xlabel=\"original\", ylabel=\"delay\", aspect_ratio=:equal)"
   ]
  },
  {
   "cell_type": "code",
   "execution_count": null,
   "metadata": {},
   "outputs": [],
   "source": [
    "delays = 1:10\n",
    "auto_correlation = zeros(length(delays))\n",
    "\n",
    "delay = 0\n",
    "\n",
    "x = trajectory[1, :]\n",
    "\n",
    "for i in 1:length(delays)\n",
    "    delay = delays[i] # 使用する遅れ時間\n",
    "    x_delay = x[1:end-delay]# 遅れ座標\n",
    "    x_original = x[delay+1:end]# 元の座標\n",
    "    auto_correlation[i] = cor(x_original, x_delay) # cor関数でx_delayとx_originalの相関係数を計算し、auto_correlationに格納\n",
    "    if auto_correlation[i] < 1 / MathConstants.e # 相関係数が1/e以下になったら終了\n",
    "        break\n",
    "    end\n",
    "end\n",
    "\n",
    "println(delay)\n"
   ]
  },
  {
   "cell_type": "code",
   "execution_count": null,
   "metadata": {},
   "outputs": [],
   "source": [
    "function optimal_delay(x::Vector, max_delay::Int)\n",
    "    delays = 1:max_delay\n",
    "    for i in 1:length(delays)\n",
    "        delay = delays[i]\n",
    "        x_delay = x[1:end-delay]\n",
    "        x_original = x[delay+1:end]\n",
    "        auto_cor = cor(x_original, x_delay)\n",
    "        if abs(auto_cor) < 1 / MathConstants.e\n",
    "            return delay\n",
    "        end\n",
    "    end\n",
    "\n",
    "    # もし見つからなかったら\n",
    "    return nothing\n",
    "end\n",
    "\n",
    "optimal_delay(x, 10)"
   ]
  }
 ],
 "metadata": {
  "kernelspec": {
   "display_name": "Julia 1.11.0",
   "language": "julia",
   "name": "julia-1.11"
  },
  "language_info": {
   "file_extension": ".jl",
   "mimetype": "application/julia",
   "name": "julia",
   "version": "1.11.0"
  }
 },
 "nbformat": 4,
 "nbformat_minor": 2
}
