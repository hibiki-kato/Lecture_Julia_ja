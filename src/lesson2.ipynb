{
 "cells": [
  {
   "cell_type": "markdown",
   "metadata": {},
   "source": [
    "# Lesson2 変数とデータ型\n",
    "# 目標\n",
    "* ### 基本的な機能を理解する\n",
    "* ### 変数を理解する\n",
    "* ### 基本的な計算を知る\n",
    "* ### 配列を知る"
   ]
  },
  {
   "cell_type": "markdown",
   "metadata": {},
   "source": [
    "# 2 変数, 計算, テキスト, 配列"
   ]
  },
  {
   "cell_type": "markdown",
   "metadata": {},
   "source": [
    "## 2.1 変数 + 基本事項"
   ]
  },
  {
   "cell_type": "markdown",
   "metadata": {},
   "source": [
    "### 2.1.1 変数"
   ]
  },
  {
   "cell_type": "markdown",
   "metadata": {},
   "source": [
    "プログラミングをするとき，変数(データ)には型が存在します．\n",
    "整数 (例えば、 `2 、 4 、 20`) は Int 型であり、小数部を持つ数 (例えば、 `5.0 、 1.6`) は Float 型です．\n",
    "\n",
    "それらのデータを格納する箱を変数と言います．\n",
    "\n",
    "変数`a`に100という数字を入れたい(定義したい)場合は代入演算子`=`を使い，\n",
    "\n",
    "```\n",
    "a=100\n",
    "```\n",
    "\n",
    "とします．\n",
    "\n",
    "例)"
   ]
  },
  {
   "cell_type": "code",
   "execution_count": 9,
   "metadata": {},
   "outputs": [
    {
     "data": {
      "text/plain": [
       "20"
      ]
     },
     "metadata": {},
     "output_type": "display_data"
    }
   ],
   "source": [
    "I = 10\n",
    "J = I + 10"
   ]
  },
  {
   "cell_type": "markdown",
   "metadata": {},
   "source": [
    "\n",
    "変数などを表示したい場合は```print```もしくは```println```関数を使います．カッコの中に，表示したい変数などを入れて使います．```println(表示したいオブジェクト)```\n",
    "\n",
    "例)"
   ]
  },
  {
   "cell_type": "code",
   "execution_count": 12,
   "metadata": {},
   "outputs": [
    {
     "name": "stdout",
     "output_type": "stream",
     "text": [
      "3.141592653589793\n"
     ]
    },
    {
     "ename": "LoadError",
     "evalue": "LoadError: UndefVarError: `@f_str` not defined\nin expression starting at /Users/hibiki/Documents/julia_playground/Lecture_Julia/ja/src/lesson2.ipynb:2",
     "output_type": "error",
     "traceback": [
      "LoadError: UndefVarError: `@f_str` not defined\n",
      "in expression starting at /Users/hibiki/Documents/julia_playground/Lecture_Julia/ja/src/lesson2.ipynb:2\n"
     ]
    }
   ],
   "source": [
    "println(PI)\n",
    "println(\"Hellow World\")"
   ]
  },
  {
   "cell_type": "markdown",
   "metadata": {},
   "source": [
    "カンマで区切ることで複数の変数を表示することもできます．"
   ]
  },
  {
   "cell_type": "code",
   "execution_count": 16,
   "metadata": {},
   "outputs": [
    {
     "name": "stdout",
     "output_type": "stream",
     "text": [
      "I = 10\n"
     ]
    }
   ],
   "source": [
    "println(\"I = \", I)"
   ]
  },
  {
   "cell_type": "markdown",
   "metadata": {},
   "source": [
    "### 2.1.2　コメントアウト"
   ]
  },
  {
   "cell_type": "markdown",
   "metadata": {},
   "source": [
    "ソースコード(プログラムを書いているファイル)中にコメントを残すことができます．\n",
    "\n",
    "pythonでは，先頭に`#`がある場合や，`#= =#`で囲われた領域は，コメントとみなされて実行時に無視されます．"
   ]
  },
  {
   "cell_type": "code",
   "execution_count": null,
   "metadata": {},
   "outputs": [],
   "source": [
    "# この文はコメントです\n",
    "#=\n",
    "    #= =#で囲むと実行時に無視されます．\n",
    "    改行しても大丈夫です．\n",
    "=#"
   ]
  },
  {
   "cell_type": "code",
   "execution_count": 3,
   "metadata": {},
   "outputs": [
    {
     "ename": "UndefVarError",
     "evalue": "UndefVarError: `文字をそのまま実行するとエラーが出ます` not defined",
     "output_type": "error",
     "traceback": [
      "UndefVarError: `文字をそのまま実行するとエラーが出ます` not defined\n"
     ]
    }
   ],
   "source": [
    "文字をそのまま実行するとエラーが出ます\n",
    "# エラーの意味： 定義されてない変数の呼び出し \"文字をそのまま実行するとエラーが出ます”という名前の変数が定義されていません．\n",
    "# つまり，\n",
    "# 文字をそのまま実行するとエラーが出ます = 10\n",
    "# を定義すればエラーではなくなります．"
   ]
  },
  {
   "cell_type": "markdown",
   "metadata": {},
   "source": [
    "コメントの主な使い道は\n",
    "- コードの可読性(=読みやすさ)向上\n",
    "- 処理させたくないところのスキップ\n",
    "\n",
    "の2つです．\n",
    "例えば，以下のコードを見てください"
   ]
  },
  {
   "cell_type": "code",
   "execution_count": 17,
   "metadata": {},
   "outputs": [
    {
     "data": {
      "text/plain": [
       "1000"
      ]
     },
     "metadata": {},
     "output_type": "display_data"
    }
   ],
   "source": [
    "N = 10\n",
    "M = 1000"
   ]
  },
  {
   "cell_type": "markdown",
   "metadata": {},
   "source": [
    "次は，処理させたくないところのスキップさせる例を見ましょう．"
   ]
  },
  {
   "cell_type": "code",
   "execution_count": 28,
   "metadata": {},
   "outputs": [
    {
     "name": "stdout",
     "output_type": "stream",
     "text": [
      "3.141592653589793\n"
     ]
    },
    {
     "data": {
      "text/plain": [
       "1000"
      ]
     },
     "metadata": {},
     "output_type": "display_data"
    }
   ],
   "source": [
    "N = PI\n",
    "println(PI)\n",
    "\n",
    "A = 100\n",
    "A = 1000"
   ]
  },
  {
   "cell_type": "markdown",
   "metadata": {
    "vscode": {
     "languageId": "plaintext"
    }
   },
   "source": [
    "## 2.2 計算(和差乗除 + 剰余 + ベキ)"
   ]
  },
  {
   "cell_type": "markdown",
   "metadata": {},
   "source": [
    "### プラスマイナス"
   ]
  },
  {
   "cell_type": "code",
   "execution_count": 49,
   "metadata": {},
   "outputs": [
    {
     "data": {
      "text/plain": [
       "-10"
      ]
     },
     "metadata": {},
     "output_type": "display_data"
    }
   ],
   "source": [
    "x = 10\n",
    "-x"
   ]
  },
  {
   "cell_type": "markdown",
   "metadata": {},
   "source": [
    "### 和"
   ]
  },
  {
   "cell_type": "code",
   "execution_count": 19,
   "metadata": {},
   "outputs": [
    {
     "data": {
      "text/plain": [
       "4"
      ]
     },
     "metadata": {},
     "output_type": "display_data"
    }
   ],
   "source": [
    "2 + 2"
   ]
  },
  {
   "cell_type": "code",
   "execution_count": 27,
   "metadata": {},
   "outputs": [
    {
     "data": {
      "text/plain": [
       "10"
      ]
     },
     "metadata": {},
     "output_type": "display_data"
    }
   ],
   "source": [
    "x = 0\n",
    "x += 10"
   ]
  },
  {
   "cell_type": "markdown",
   "metadata": {},
   "source": [
    "### 差"
   ]
  },
  {
   "cell_type": "code",
   "execution_count": 30,
   "metadata": {},
   "outputs": [
    {
     "data": {
      "text/plain": [
       "10"
      ]
     },
     "metadata": {},
     "output_type": "display_data"
    }
   ],
   "source": [
    "40 - 30"
   ]
  },
  {
   "cell_type": "code",
   "execution_count": 31,
   "metadata": {},
   "outputs": [
    {
     "data": {
      "text/plain": [
       "-10"
      ]
     },
     "metadata": {},
     "output_type": "display_data"
    }
   ],
   "source": [
    "x = 0\n",
    "x -= 10"
   ]
  },
  {
   "cell_type": "markdown",
   "metadata": {},
   "source": [
    "### 乗"
   ]
  },
  {
   "cell_type": "code",
   "execution_count": 32,
   "metadata": {},
   "outputs": [
    {
     "data": {
      "text/plain": [
       "451"
      ]
     },
     "metadata": {},
     "output_type": "display_data"
    }
   ],
   "source": [
    "11 * 41"
   ]
  },
  {
   "cell_type": "code",
   "execution_count": 40,
   "metadata": {},
   "outputs": [
    {
     "data": {
      "text/plain": [
       "4000"
      ]
     },
     "metadata": {},
     "output_type": "display_data"
    }
   ],
   "source": [
    "x = 10\n",
    "x *= 100\n",
    "4x"
   ]
  },
  {
   "cell_type": "markdown",
   "metadata": {},
   "source": [
    "### 除\n",
    "\n",
    "```/```だけだと，値は浮動点小数```float```になります．(普通の割り算)"
   ]
  },
  {
   "cell_type": "code",
   "execution_count": 37,
   "metadata": {},
   "outputs": [
    {
     "data": {
      "text/plain": [
       "10.0"
      ]
     },
     "metadata": {},
     "output_type": "display_data"
    }
   ],
   "source": [
    "30 / 3"
   ]
  },
  {
   "cell_type": "markdown",
   "metadata": {},
   "source": [
    "### 商\n",
    "\\divと打ってtabを押せば，出てくる```÷```を使って，割り算の結果を整数で取得できます．割り算の結果(小数)に対して，0の方向に丸めるので，正の数の場合は切り捨て，負の数の場合は切り上げになります．"
   ]
  },
  {
   "cell_type": "code",
   "execution_count": 8,
   "metadata": {},
   "outputs": [
    {
     "name": "stdout",
     "output_type": "stream",
     "text": [
      "9\n",
      "-6\n"
     ]
    }
   ],
   "source": [
    "println(29 ÷ 3)\n",
    "println(-20 ÷ 3)"
   ]
  },
  {
   "cell_type": "markdown",
   "metadata": {},
   "source": [
    "### 剰余\n",
    "```%```演算子で余りを計算します．"
   ]
  },
  {
   "cell_type": "code",
   "execution_count": 43,
   "metadata": {},
   "outputs": [
    {
     "data": {
      "text/plain": [
       "1"
      ]
     },
     "metadata": {},
     "output_type": "display_data"
    }
   ],
   "source": [
    "5 % 2\n",
    "# 4.2 % 0.4"
   ]
  },
  {
   "cell_type": "markdown",
   "metadata": {},
   "source": [
    "### ベキ乗\n",
    "```**```"
   ]
  },
  {
   "cell_type": "code",
   "execution_count": 44,
   "metadata": {},
   "outputs": [
    {
     "data": {
      "text/plain": [
       "1024"
      ]
     },
     "metadata": {},
     "output_type": "display_data"
    }
   ],
   "source": [
    "2^10"
   ]
  },
  {
   "cell_type": "markdown",
   "metadata": {},
   "source": [
    "## 2.3 テキスト"
   ]
  },
  {
   "cell_type": "markdown",
   "metadata": {},
   "source": [
    "Python は数値だけでなくテキスト (いわゆる「文字列」である ```str``` 型によって表現されます) を扱うことができます。 ! のような文字や rabbit のような単語、 Paris のような名前、 Got your back. ような文もすべて文字列です。 文字列`str`型はダブルクォート `\"...\"`で囲みます．1文字だけの文字列`char`型はシングルクォート `'...'` で囲みます．"
   ]
  },
  {
   "cell_type": "code",
   "execution_count": 17,
   "metadata": {},
   "outputs": [
    {
     "name": "stdout",
     "output_type": "stream",
     "text": [
      "Python"
     ]
    }
   ],
   "source": [
    "name = \"Python\"\n",
    "print(name)"
   ]
  },
  {
   "cell_type": "markdown",
   "metadata": {},
   "source": [
    "`\"$変数\"`とすれば，変数の中身を文字列として表示することができます．  \n",
    "`\"$(式)\"`とすれば，式の結果を文字列として表示することができます．"
   ]
  },
  {
   "cell_type": "code",
   "execution_count": 20,
   "metadata": {},
   "outputs": [
    {
     "name": "stdout",
     "output_type": "stream",
     "text": [
      "ans = 10\n",
      "ans = 100\n"
     ]
    }
   ],
   "source": [
    "ans = 10\n",
    "println(\"ans = $ans\")\n",
    "println(\"ans = $(ans * 10)\")"
   ]
  },
  {
   "cell_type": "markdown",
   "metadata": {},
   "source": [
    "文字列の中では，バックスラッシュ```\\```でエスケープすることにより，様々なコマンドをしこめます．\n",
    "\n",
    "e.g.\n",
    "\n",
    "```\\n```: 改行\n",
    "\n",
    "```\\\"```: シングルクォーテーション\n",
    "\n",
    "```\\'```: ダブルクォーテーション\n"
   ]
  },
  {
   "cell_type": "markdown",
   "metadata": {},
   "source": [
    "## 演習問題 1"
   ]
  },
  {
   "cell_type": "markdown",
   "metadata": {},
   "source": [
    "### 1年(365日)が何秒か計算してください"
   ]
  },
  {
   "cell_type": "code",
   "execution_count": null,
   "metadata": {},
   "outputs": [],
   "source": [
    "# コードを書いてください"
   ]
  },
  {
   "cell_type": "markdown",
   "metadata": {},
   "source": [
    "## 演習問題 2"
   ]
  },
  {
   "cell_type": "markdown",
   "metadata": {},
   "source": [
    "### 時間 $t = 4372907$(sec)に対し， Hour:Minutes:Secondsを出力してください\n",
    "\n",
    "例)  10000 = 2:46:40\n",
    "\n",
    "**ヒント:** \n",
    "* hour = 3600秒で割った商．minutes = hour分を差し引いた秒数を60で割った商.\n",
    "\n",
    "* 複数の変数や値を並べて```print```する場合は，カンマ```,```や，```+```を使います\n",
    "\n",
    "    例) ```print(\"今日は\" + 2 + \"月\" + 9 + \"日です\")```\n",
    "\n",
    "    f文字という方法もあります．クォーテーションを```f\"\"```として，変数は```{}```で囲います．\n",
    "\n",
    "    例) ```print(f\"今日は{month}月{date}日です\")```"
   ]
  },
  {
   "cell_type": "code",
   "execution_count": null,
   "metadata": {},
   "outputs": [],
   "source": [
    "t = 4372907\n",
    "# コードを書いてください"
   ]
  },
  {
   "cell_type": "markdown",
   "metadata": {},
   "source": [
    "## 2.4 ベクトル(配列)"
   ]
  },
  {
   "cell_type": "markdown",
   "metadata": {},
   "source": [
    "例えば，数列，時系列データを格納するには，変数1つでは足りません．かといって，各時刻における値$x_0, x_1, \\cdots, $をそれぞれ\n",
    "\n",
    "```x_0 = 1```\n",
    "\n",
    "```x_1 = 1.2```\n",
    "\n",
    "と1つずつ変数に入れるのはナンセンスです．\n",
    "\n",
    "このような時に，配列を用います．\n",
    "配列とは，数値や文字列といった複数の変数を格納するものであり，以下のように扱います"
   ]
  },
  {
   "cell_type": "code",
   "execution_count": 6,
   "metadata": {},
   "outputs": [
    {
     "name": "stdout",
     "output_type": "stream",
     "text": [
      "[1, 2, 3, 4, 5, 6, 7, 8, 9, 10][\"Python\", \"Julia\", \"Ruby\", \"Perl\", \"PHP\", \"C\", \"C++\", \"C#\", \"Fortran\", \"Java\"]\n"
     ]
    }
   ],
   "source": [
    "vec = [1, 2, 3, 4, 5, 6, 7, 8, 9, 10]\n",
    "str_vec = [\"Python\", \"Julia\", \"Ruby\", \"Perl\", \"PHP\", \"C\", \"C++\", \"C#\", \"Fortran\", \"Java\"]\n",
    "\n",
    "println(vec, str_vec)"
   ]
  },
  {
   "cell_type": "markdown",
   "metadata": {},
   "source": [
    "配列の各要素にアクセスするには，インデックスを使います．\n",
    "k番目の要素にアクセスするには，```配列名[k]```とします．"
   ]
  },
  {
   "cell_type": "code",
   "execution_count": 7,
   "metadata": {},
   "outputs": [
    {
     "data": {
      "text/plain": [
       "1"
      ]
     },
     "metadata": {},
     "output_type": "display_data"
    }
   ],
   "source": [
    "vec[1]"
   ]
  },
  {
   "cell_type": "markdown",
   "metadata": {},
   "source": [
    "リストの各要素にアクセスするためには，インデックスを```[]```で指定する必要があります．\n",
    "\n",
    "pythonでは，k個目の要素のインデックスは，```k-1```なので，例えば，\n",
    "\n",
    "```lst=[10, 20, 30]```の1個目の要素```10```を取り出したい場合は，\n",
    "\n",
    "```lst[0]```\n",
    "\n",
    "とすれば良いです．"
   ]
  },
  {
   "cell_type": "markdown",
   "metadata": {},
   "source": [
    "## 演習問題1 解答例"
   ]
  },
  {
   "cell_type": "code",
   "execution_count": 2,
   "metadata": {},
   "outputs": [
    {
     "data": {
      "text/plain": [
       "31536000"
      ]
     },
     "metadata": {},
     "output_type": "display_data"
    }
   ],
   "source": [
    "# 60秒 x 60分 x 24時間 x 365日\n",
    "60 * 60 * 24 * 365"
   ]
  },
  {
   "cell_type": "markdown",
   "metadata": {},
   "source": [
    "## 演習問題2 解答例"
   ]
  },
  {
   "cell_type": "code",
   "execution_count": 10,
   "metadata": {},
   "outputs": [
    {
     "name": "stdout",
     "output_type": "stream",
     "text": [
      "1214:41:47\n"
     ]
    }
   ],
   "source": [
    "t = 4372907 # 秒数\n",
    "hour = t ÷ 3600 # 時間は秒を3600で割った商\n",
    "minute = (t % 3600) ÷ 60 # 分は秒を3600で割った余りを60で割った商(もしくは，360で割った商を，60で割った余り)\n",
    "second = t % 60 # 秒は秒を60で割った余り\n",
    "\n",
    "# 出力\n",
    "println(\"$hour:$minute:$second\")\n"
   ]
  }
 ],
 "metadata": {
  "kernelspec": {
   "display_name": "Julia 1.10.3",
   "language": "julia",
   "name": "julia-1.10"
  },
  "language_info": {
   "file_extension": ".jl",
   "mimetype": "application/julia",
   "name": "julia",
   "version": "1.10.3"
  }
 },
 "nbformat": 4,
 "nbformat_minor": 4
}
