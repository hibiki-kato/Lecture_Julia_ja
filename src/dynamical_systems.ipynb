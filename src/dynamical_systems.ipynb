{
 "cells": [
  {
   "cell_type": "code",
   "execution_count": null,
   "metadata": {},
   "outputs": [],
   "source": [
    "# using Pkg\n",
    "# Pkg.add(\"OrdinaryDiffEq\")\n",
    "using DynamicalSystems, Plots, OrdinaryDiffEq # accessing the ODE solvers"
   ]
  },
  {
   "cell_type": "markdown",
   "metadata": {},
   "source": [
    "## Henon map"
   ]
  },
  {
   "cell_type": "code",
   "execution_count": null,
   "metadata": {},
   "outputs": [],
   "source": [
    "function henon_rule(u, p, n) # here `n` is \"time\", but we don't use it.\n",
    "    x, y = u # system state\n",
    "    a, b = p # system parameters\n",
    "    xn = 1.0 - a * x^2 + y\n",
    "    yn = b * x\n",
    "    return SVector(xn, yn)\n",
    "end\n",
    "\n",
    "u0 = [0.2, 0.3] # initial condition\n",
    "p0 = [1.4, 0.3] # parameter\n",
    "\n",
    "henon = DeterministicIteratedMap(henon_rule, u0, p0)\n",
    "\n",
    "total_time = 10000\n",
    "X, t = trajectory(henon, total_time)\n",
    "\n",
    "plot(X[:, 1], X[:, 2], seriestype=:scatter, markersize=0.1, legend=false)"
   ]
  },
  {
   "cell_type": "markdown",
   "metadata": {},
   "source": [
    "## Lorenz 96"
   ]
  },
  {
   "cell_type": "markdown",
   "metadata": {},
   "source": [
    "### discrete"
   ]
  },
  {
   "cell_type": "code",
   "execution_count": null,
   "metadata": {},
   "outputs": [],
   "source": [
    "function lorenz96_rule!(du, u, p, t)\n",
    "    F = p[1]\n",
    "    N = length(u)\n",
    "    # 3 edge cases\n",
    "    du[1] = (u[2] - u[N-1]) * u[N] - u[1] + F\n",
    "    du[2] = (u[3] - u[N]) * u[1] - u[2] + F\n",
    "    du[N] = (u[1] - u[N-2]) * u[N-1] - u[N] + F\n",
    "    # then the general case\n",
    "    for n in 3:(N-1)\n",
    "        du[n] = (u[n+1] - u[n-2]) * u[n-1] - u[n] + F\n",
    "    end\n",
    "    return nothing # always `return nothing` for in-place form!\n",
    "end\n",
    "\n",
    "N = 6 # number of variables\n",
    "u0 = range(0.1, 1; length=N)# initial condition\n",
    "p0 = [8.0] # parameter\n",
    "lorenz96 = CoupledODEs(lorenz96_rule!, u0, p0) # create the system\n",
    "\n",
    "total_time = 12.5 # total time\n",
    "sampling_time = 0.02 # sampling time\n",
    "Y, t = trajectory(lorenz96, total_time; Ttr=2.2, Δt=sampling_time) # simulate the system Ttr is the transient time, Δt is the sampling time\n",
    "\n",
    "plt = plot()\n",
    "for var in columns(Y)\n",
    "    plot!(plt, t, var, label=\"\")\n",
    "end\n",
    "display(plt)"
   ]
  },
  {
   "cell_type": "markdown",
   "metadata": {},
   "source": [
    "### continuous"
   ]
  },
  {
   "cell_type": "code",
   "execution_count": null,
   "metadata": {},
   "outputs": [],
   "source": [
    "diffeq = (alg=Vern9(), abstol=1e-9, reltol=1e-9)\n",
    "lorenz96_vern = ContinuousDynamicalSystem(lorenz96_rule!, u0, p0; diffeq)\n",
    "\n",
    "Y, t = trajectory(lorenz96_vern, total_time; Ttr=2.2, Δt=sampling_time)\n",
    "Y[end]\n",
    "\n",
    "steps = 10000\n",
    "lyapunovspectrum(lorenz96, steps)"
   ]
  }
 ],
 "metadata": {
  "kernelspec": {
   "display_name": "Julia 1.10.5",
   "language": "julia",
   "name": "julia-1.10"
  },
  "language_info": {
   "file_extension": ".jl",
   "mimetype": "application/julia",
   "name": "julia",
   "version": "1.10.5"
  }
 },
 "nbformat": 4,
 "nbformat_minor": 2
}
